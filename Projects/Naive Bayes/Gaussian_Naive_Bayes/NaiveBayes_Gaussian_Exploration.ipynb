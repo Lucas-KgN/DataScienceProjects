{
  "nbformat": 4,
  "nbformat_minor": 0,
  "metadata": {
    "colab": {
      "name": "NaiveBayes-Gaussian-Exploration.ipynb",
      "provenance": []
    },
    "kernelspec": {
      "name": "python3",
      "display_name": "Python 3"
    },
    "language_info": {
      "name": "python"
    }
  },
  "cells": [
    {
      "cell_type": "markdown",
      "source": [
        "##**Gaussian Naive Bayes**\n",
        "\n",
        "* Ao trabalhar com dados contínuos existe uma suposição muito comum de que os valores contínuos associados a cada classe são distribuídos de acordo com uma distribuição gaussiana, ou seja, uma distribuição normal.\n",
        "\n",
        "* O link da documentação desse tipo de algoritmo é a seguinte: \n",
        "http://scikit-learn.org/stable/modules/generated/sklearn.naive_bayes.GaussianNB.html"
      ],
      "metadata": {
        "id": "bPtBXdyt38cz"
      }
    },
    {
      "cell_type": "markdown",
      "source": [
        "###**Aplicação do algoritmo Gaussian Naive Bayes - Caso 1**\n",
        "\n",
        "* A base de dados utilizada é a iris e pode ser encontrada utilizando o sklearn."
      ],
      "metadata": {
        "id": "tCgQtsYK4seR"
      }
    },
    {
      "cell_type": "code",
      "execution_count": null,
      "metadata": {
        "colab": {
          "base_uri": "https://localhost:8080/"
        },
        "id": "LnzYnGhE3iEU",
        "outputId": "1a99bcef-59b8-491a-d53c-32513fdeb4fe"
      },
      "outputs": [
        {
          "output_type": "stream",
          "name": "stdout",
          "text": [
            "Total de exemplos visualizados: 150 - Total de previsões incorretas: 6\n"
          ]
        }
      ],
      "source": [
        "from sklearn import datasets\n",
        "from sklearn.naive_bayes import GaussianNB\n",
        "\n",
        "# Carregando a base de dados\n",
        "dataset = datasets.load_iris()\n",
        "\n",
        "# Classificador GNB\n",
        "classifier = GaussianNB()\n",
        "\n",
        "# Treinando o modelo\n",
        "modelo = classifier.fit(dataset.data, dataset.target)\n",
        "\n",
        "# Previsões feitas\n",
        "prev = modelo.predict(dataset.data)\n",
        "\n",
        "# Resultado\n",
        "print('Total de exemplos visualizados: %d - Total de previsões incorretas: %d' % (dataset.data.shape[0], (dataset.target != prev).sum()))"
      ]
    },
    {
      "cell_type": "markdown",
      "source": [
        "###**Aplicação do algoritmo Gaussian Naive Bayes - Caso 2**\n",
        "\n",
        "* A base de dados utilizada é a iris e pode ser encontrada utilizando o sklearn.\n",
        "\n",
        "* Neste caso as métricas do modelo serão exploradas"
      ],
      "metadata": {
        "id": "wlzu32-s7s__"
      }
    },
    {
      "cell_type": "code",
      "source": [
        "from sklearn import datasets\n",
        "from sklearn import metrics\n",
        "from sklearn.naive_bayes import GaussianNB\n",
        "\n",
        "# Base de dados\n",
        "dataset = datasets.load_iris()\n",
        "\n",
        "# Classificador GNB\n",
        "classifier = GaussianNB()\n",
        "\n",
        "# Treinando o modelo\n",
        "modelo = classifier.fit(dataset.data, dataset.target)\n",
        "print(modelo)\n",
        "\n",
        "# Previsões obtidas\n",
        "observado = dataset.target\n",
        "previsto = modelo.predict(dataset.data)\n",
        "\n",
        "# Sumário final\n",
        "print(metrics.classification_report(observado, previsto))\n",
        "print('Matriz de confusão: \\n', metrics.confusion_matrix(observado, previsto))"
      ],
      "metadata": {
        "colab": {
          "base_uri": "https://localhost:8080/"
        },
        "id": "KAum6rs037Si",
        "outputId": "07c6902a-3fc5-4571-9d1a-e7a523c12fe3"
      },
      "execution_count": null,
      "outputs": [
        {
          "output_type": "stream",
          "name": "stdout",
          "text": [
            "GaussianNB()\n",
            "              precision    recall  f1-score   support\n",
            "\n",
            "           0       1.00      1.00      1.00        50\n",
            "           1       0.94      0.94      0.94        50\n",
            "           2       0.94      0.94      0.94        50\n",
            "\n",
            "    accuracy                           0.96       150\n",
            "   macro avg       0.96      0.96      0.96       150\n",
            "weighted avg       0.96      0.96      0.96       150\n",
            "\n",
            "Matriz de confusão: \n",
            " [[50  0  0]\n",
            " [ 0 47  3]\n",
            " [ 0  3 47]]\n"
          ]
        }
      ]
    },
    {
      "cell_type": "markdown",
      "source": [
        "###**Aplicação do algoritmo Gaussian Naive Bayes - Caso 3**\n",
        "\n",
        "* Neste caso será estudado um problema de classificação multiclasse. \n",
        "\n",
        "* Os dados utilizados foram criados de forma randômica.\n",
        "\n",
        "* O objetivo está em classificar se o registro lido é de um urso, leoparrdo ou elefante utilizando o algoritmo Naive Bayes. "
      ],
      "metadata": {
        "id": "KyNLK8PW9OPT"
      }
    },
    {
      "cell_type": "code",
      "source": [
        "# Pacotes utilizados\n",
        "\n",
        "import numpy as np\n",
        "from random import random\n",
        "from sklearn.naive_bayes import GaussianNB\n",
        "from sklearn.model_selection import train_test_split\n",
        "from matplotlib import pyplot as plt\n",
        "import pylab as pl\n",
        "import matplotlib\n",
        "from matplotlib.colors import ListedColormap\n",
        "from sklearn import neighbors, datasets\n",
        "%matplotlib inline"
      ],
      "metadata": {
        "id": "yrIYfBEs37dq"
      },
      "execution_count": null,
      "outputs": []
    },
    {
      "cell_type": "code",
      "source": [
        "# Massa de dados com a representação de 3 classe\n",
        "leopardo_features = [(random() * 5 + 8, random() * 7 + 12) for x in range(5)]\n",
        "urso_features = [(random() * 4 + 3, random() * 2 + 30) for x in range(4)]\n",
        "elefante_features = [(random() * 3 + 20, (random() - 0.5) * 4 + 23) for x in range(6)]\n",
        "\n",
        "# Input\n",
        "X = urso_features + elefante_features + leopardo_features\n",
        "\n",
        "# Output\n",
        "y = ['urso'] * len(urso_features) + ['elefante'] * len(elefante_features) + ['leopardo'] * len(leopardo_features)"
      ],
      "metadata": {
        "id": "zOWh0DED37eq"
      },
      "execution_count": null,
      "outputs": []
    },
    {
      "cell_type": "code",
      "source": [
        "X"
      ],
      "metadata": {
        "id": "Z28JU58x37fq",
        "colab": {
          "base_uri": "https://localhost:8080/"
        },
        "outputId": "3b51d9c9-3475-45bb-d755-05787131be6e"
      },
      "execution_count": null,
      "outputs": [
        {
          "output_type": "execute_result",
          "data": {
            "text/plain": [
              "[(4.03797890666331, 31.70384367208643),\n",
              " (4.124059936442356, 31.05517006997246),\n",
              " (4.482918792820814, 30.30047084633108),\n",
              " (5.088476316840505, 31.35021823926593),\n",
              " (21.83875835736494, 21.268035739184135),\n",
              " (22.708605786987924, 24.01449097899768),\n",
              " (20.955916324924313, 21.645226039773846),\n",
              " (21.920350576089607, 22.67004287894759),\n",
              " (20.87059684027161, 22.83282797982404),\n",
              " (21.467586298895654, 21.898514221213023),\n",
              " (12.985562038148894, 18.895471826329157),\n",
              " (11.312581675494656, 13.475662599123387),\n",
              " (11.654004952698, 18.072402404151337),\n",
              " (10.463896534862009, 15.52761229335365),\n",
              " (8.068407882973904, 14.290807380085795)]"
            ]
          },
          "metadata": {},
          "execution_count": 23
        }
      ]
    },
    {
      "cell_type": "code",
      "source": [
        "y"
      ],
      "metadata": {
        "id": "XAxhViNi37gy",
        "colab": {
          "base_uri": "https://localhost:8080/"
        },
        "outputId": "4c8f6c3a-6eef-4d2c-c48e-c4b73dc1672e"
      },
      "execution_count": null,
      "outputs": [
        {
          "output_type": "execute_result",
          "data": {
            "text/plain": [
              "['urso',\n",
              " 'urso',\n",
              " 'urso',\n",
              " 'urso',\n",
              " 'elefante',\n",
              " 'elefante',\n",
              " 'elefante',\n",
              " 'elefante',\n",
              " 'elefante',\n",
              " 'elefante',\n",
              " 'leopardo',\n",
              " 'leopardo',\n",
              " 'leopardo',\n",
              " 'leopardo',\n",
              " 'leopardo']"
            ]
          },
          "metadata": {},
          "execution_count": 24
        }
      ]
    },
    {
      "cell_type": "code",
      "source": [
        "# Plotando os dados\n",
        "fig, axis = plt.subplots(1, 1)\n",
        "\n",
        "# Classe 1\n",
        "urso_weight, urso_height = zip(*urso_features)\n",
        "axis.plot(urso_weight, urso_height, 'ro', label = 'Ursos')\n",
        "\n",
        "# Classe 2\n",
        "elefante_weight, elefante_height = zip(*elefante_features)\n",
        "axis.plot(elefante_weight, elefante_height, 'bo', label = 'Elefantes')\n",
        "\n",
        "# Classe 3\n",
        "leopardo_weight, leopardo_height = zip(*leopardo_features)\n",
        "axis.plot(leopardo_weight, leopardo_height, 'go', label = 'Leopardos')\n",
        "\n",
        "# Eixos do gráfico\n",
        "axis.legend(loc = 4)\n",
        "axis.set_xlabel('Peso')\n",
        "axis.set_ylabel('Altura')\n",
        "\n",
        "\n",
        "# Exibição final\n",
        "plt.title('Features dos dados')\n",
        "plt.show()"
      ],
      "metadata": {
        "id": "r-pp4noj37hx",
        "colab": {
          "base_uri": "https://localhost:8080/",
          "height": 295
        },
        "outputId": "ba255605-fa47-4a0c-ace0-ff2d207cae41"
      },
      "execution_count": null,
      "outputs": [
        {
          "output_type": "display_data",
          "data": {
            "text/plain": [
              "<Figure size 432x288 with 1 Axes>"
            ],
            "image/png": "[encoded data removed]"
          },
          "metadata": {
            "needs_background": "light"
          }
        }
      ]
    },
    {
      "cell_type": "code",
      "source": [
        "# Criando o modelo com os dados de treino\n",
        "clf = GaussianNB()\n",
        "clf.fit(X, y)\n",
        "\n",
        "# Criando outros dados para teste\n",
        "new_data = [[2, 3], [3, 31], [21, 23], [12, 16], [4, 34]]\n",
        "\n",
        "# Previsões do modelo\n",
        "print(clf.predict(new_data))\n",
        "print('\\n')\n",
        "print(clf.predict_proba(new_data))"
      ],
      "metadata": {
        "id": "pK4KReJv37jN",
        "colab": {
          "base_uri": "https://localhost:8080/"
        },
        "outputId": "2b86693c-d1b6-457b-b218-f0062e5cbe3a"
      },
      "execution_count": null,
      "outputs": [
        {
          "output_type": "stream",
          "name": "stdout",
          "text": [
            "['leopardo' 'urso' 'elefante' 'leopardo' 'urso']\n",
            "\n",
            "\n",
            "[[2.50195221e-297 1.00000000e+000 0.00000000e+000]\n",
            " [2.82033121e-210 3.02761136e-015 1.00000000e+000]\n",
            " [1.00000000e+000 5.74030359e-012 0.00000000e+000]\n",
            " [7.02067235e-062 1.00000000e+000 1.11862892e-257]\n",
            " [1.24989042e-201 2.01225132e-014 1.00000000e+000]]\n"
          ]
        }
      ]
    },
    {
      "cell_type": "markdown",
      "source": [
        "###**Aplicação do algoritmo Gaussian Naive Bayes - Caso 4**\n",
        "\n",
        "* Neste caso será estudado um problema de classificação multiclasse. \n",
        "\n",
        "* Os dados utilizados são do dataset Iris.\n",
        "\n",
        "* O objetivo está em criar um modelo capaz de classificar as entradas com base no tipo de flor que ela é, além de exibir um gráfico que vai demonstrar a distribuição dos dados\n"
      ],
      "metadata": {
        "id": "WpvsGIp5UZIx"
      }
    },
    {
      "cell_type": "code",
      "source": [
        "# Método responsável por criar o gráfico com base nos dados inseridos como atributos\n",
        "\n",
        "def plot_classification_results(clf, X, y, title):\n",
        "    # Divide o dataset em treino e teste\n",
        "    X_train, X_test, y_train, y_test = train_test_split(X, y, test_size = 0.2)\n",
        "\n",
        "    # Fit dos dados com o classificador\n",
        "    clf.fit(X_train, y_train)\n",
        "\n",
        "    # Cores para o gráfico\n",
        "    cmap_light = ListedColormap(['#FFAAAA', '#AAFFAA', '#AAAAFF'])\n",
        "    cmap_bold = ListedColormap(['#FF0000', '#00FF00', '#0000FF'])\n",
        "\n",
        "    h = .02  # Tamanho do step no meshgrid\n",
        "    \n",
        "    # Plot da fronteira de decisão.\n",
        "    # Usando o meshgrid do NumPy e atribuindo uma cor para cada ponto \n",
        "    x_min, x_max = X[:, 0].min() - 1, X[:, 0].max() + 1\n",
        "    y_min, y_max = X[:, 1].min() - 1, X[:, 1].max() + 1\n",
        "    xx, yy = np.meshgrid(np.arange(x_min, x_max, h), np.arange(y_min, y_max, h))\n",
        "\n",
        "    # Previsões do modelo\n",
        "    Z = clf.predict(np.c_[xx.ravel(), yy.ravel()])\n",
        "\n",
        "    # Resultados em cada cor do plot\n",
        "    Z = Z.reshape(xx.shape)\n",
        "    pl.figure()\n",
        "    pl.pcolormesh(xx, yy, Z, cmap=cmap_light)\n",
        "\n",
        "    # Plot dos pontos de dados de treino\n",
        "    pl.scatter(X_train[:, 0], X_train[:, 1], c = y_train, cmap = cmap_bold)\n",
        "\n",
        "    y_predicted = clf.predict(X_test)\n",
        "    score = clf.score(X_test, y_test)\n",
        "    pl.scatter(X_test[:, 0], X_test[:, 1], c = y_predicted, alpha = 0.5, cmap = cmap_bold)\n",
        "    pl.xlim(xx.min(), xx.max())\n",
        "    pl.ylim(yy.min(), yy.max())\n",
        "    pl.title(title)\n",
        "    return score"
      ],
      "metadata": {
        "id": "WVUaKy_i37k7"
      },
      "execution_count": null,
      "outputs": []
    },
    {
      "cell_type": "code",
      "source": [
        "# Pacotes utilizados\n",
        "import numpy as np\n",
        "from sklearn import datasets\n",
        "\n",
        "# Dataset\n",
        "iris = datasets.load_iris()\n",
        "\n",
        "# Imprimindo as 3 classes do dataset\n",
        "print('Classes do Dataset:')\n",
        "print(np.unique(iris.target))\n",
        "print('\\n')\n",
        "\n",
        "# Separando os dados em treino e teste\n",
        "X_train, X_test, y_train, y_test = train_test_split(iris.data, iris.target, test_size=0.2)\n",
        "\n",
        "# Shape dos dados\n",
        "print('Shape dos dados:')\n",
        "print(X_train.shape, y_train.shape)\n",
        "print(X_test.shape, y_test.shape)\n",
        "print('\\n')\n",
        "\n",
        "# Classificador\n",
        "clf = GaussianNB()\n",
        "\n",
        "# Resultado\n",
        "print('Score do modelo:')\n",
        "plot_classification_results(clf, X_train[:, :2], y_train, \"Classificação Multiclasse\")"
      ],
      "metadata": {
        "id": "1WisloQf37l7",
        "colab": {
          "base_uri": "https://localhost:8080/",
          "height": 481
        },
        "outputId": "250a5d22-243a-466e-91e2-257833d9851d"
      },
      "execution_count": null,
      "outputs": [
        {
          "output_type": "stream",
          "name": "stdout",
          "text": [
            "Classes do Dataset:\n",
            "[0 1 2]\n",
            "\n",
            "\n",
            "Shape dos dados:\n",
            "(120, 4) (120,)\n",
            "(30, 4) (30,)\n",
            "\n",
            "\n",
            "Score do modelo:\n"
          ]
        },
        {
          "output_type": "execute_result",
          "data": {
            "text/plain": [
              "0.8333333333333334"
            ]
          },
          "metadata": {},
          "execution_count": 34
        },
        {
          "output_type": "display_data",
          "data": {
            "text/plain": [
              "<Figure size 432x288 with 1 Axes>"
            ],
            "image/png": "[encoded data removed]"
          },
          "metadata": {
            "needs_background": "light"
          }
        }
      ]
    },
    {
      "cell_type": "markdown",
      "source": [
        "* O modelo obteve 83.3% de precisão nas previsões.\n",
        "\n",
        "* É possível perceber no gráfico alguns dados que estão classificados no local errado."
      ],
      "metadata": {
        "id": "gf6DH5ziWLqx"
      }
    }
  ]
}