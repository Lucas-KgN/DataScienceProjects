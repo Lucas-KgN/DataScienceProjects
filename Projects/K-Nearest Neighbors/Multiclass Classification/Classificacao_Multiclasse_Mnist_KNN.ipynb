{
  "nbformat": 4,
  "nbformat_minor": 0,
  "metadata": {
    "colab": {
      "name": "Classificacao_Multiclasse_Mnist_KNN.ipynb",
      "provenance": []
    },
    "kernelspec": {
      "name": "python3",
      "display_name": "Python 3"
    },
    "language_info": {
      "name": "python"
    }
  },
  "cells": [
    {
      "cell_type": "markdown",
      "source": [
        "# **Aplicação do algoritmo K Nearest Neighbor para classificação do Mnist Dataset**\n",
        "\n",
        "* O objetivo do problema está em construir um modelo utilizando o algoritmo KNN que seja capaz de classificar corretamente imagens, definindo qual número está contido naquela imagem. \n",
        "\n",
        "* Através dos valores da matriz da imagem é que o algoritmo será capaz de prever a variável target. \n",
        "\n",
        "* A base de dados utilizada pode ser encontrada no seguinte link: http://scikit-learn.org/stable/modules/generated/sklearn.datasets.load_digits.html\n",
        "\n",
        "* Conceitos e seções teóricas também estão contidas neste arquivo."
      ],
      "metadata": {
        "id": "KTHIDgUklXCp"
      }
    },
    {
      "cell_type": "markdown",
      "source": [
        "# **Carregando e analisando a base de dados** "
      ],
      "metadata": {
        "id": "SLhsMIaIpnlu"
      }
    },
    {
      "cell_type": "code",
      "execution_count": 3,
      "metadata": {
        "id": "fZZAvuA1lOKx"
      },
      "outputs": [],
      "source": [
        "# Carregando as bibliotecas a serem utilizadas\n",
        "import numpy as np\n",
        "from sklearn import datasets # Base de dados\n",
        "from sklearn.metrics import confusion_matrix # Matriz de confusão para verificar a multicolinearidade\n",
        "from sklearn.model_selection import train_test_split\n",
        "from sklearn.neighbors import KNeighborsClassifier # Algoritmo KNN\n",
        "from sklearn.metrics import classification_report # Métricas de classificação\n",
        "import matplotlib.pyplot as plt\n",
        "import warnings\n",
        "warnings.filterwarnings('ignore')"
      ]
    },
    {
      "cell_type": "code",
      "source": [
        "# Carregando o dataset\n",
        "dataset = datasets.load_digits()"
      ],
      "metadata": {
        "id": "mmmieuG6lVZs"
      },
      "execution_count": 4,
      "outputs": []
    },
    {
      "cell_type": "code",
      "source": [
        "# Base de dados representando as imagens\n",
        "dataset.data"
      ],
      "metadata": {
        "colab": {
          "base_uri": "https://localhost:8080/"
        },
        "id": "got0ZXTnlVhV",
        "outputId": "da727168-d089-4c90-84e4-e4a9a89c4678"
      },
      "execution_count": 5,
      "outputs": [
        {
          "output_type": "execute_result",
          "data": {
            "text/plain": [
              "array([[ 0.,  0.,  5., ...,  0.,  0.,  0.],\n",
              "       [ 0.,  0.,  0., ..., 10.,  0.,  0.],\n",
              "       [ 0.,  0.,  0., ..., 16.,  9.,  0.],\n",
              "       ...,\n",
              "       [ 0.,  0.,  1., ...,  6.,  0.,  0.],\n",
              "       [ 0.,  0.,  2., ..., 12.,  0.,  0.],\n",
              "       [ 0.,  0., 10., ..., 12.,  1.,  0.]])"
            ]
          },
          "metadata": {},
          "execution_count": 5
        }
      ]
    },
    {
      "cell_type": "code",
      "source": [
        "# Visualizando algumas imagens e a label correspondente de cada uma\n",
        "images_e_labels = list(zip(dataset.images, dataset.target))\n",
        "for index, (image, label) in enumerate(images_e_labels[:4]):\n",
        "  plt.subplot(2, 4, index + 1)\n",
        "  plt.axis('off')\n",
        "  plt.imshow(image, cmap = plt.cm.gray_r, interpolation = 'nearest')\n",
        "  plt.title('Label: %i' % label)"
      ],
      "metadata": {
        "colab": {
          "base_uri": "https://localhost:8080/",
          "height": 120
        },
        "id": "lAPoh-0flViW",
        "outputId": "807da520-3a1d-4751-ea41-fb4806a7408f"
      },
      "execution_count": 6,
      "outputs": [
        {
          "output_type": "display_data",
          "data": {
            "image/png": "[encoded data removed]",
            "text/plain": [
              "<Figure size 432x288 with 4 Axes>"
            ]
          },
          "metadata": {
            "needs_background": "light"
          }
        }
      ]
    },
    {
      "cell_type": "code",
      "source": [
        "# Gerando X e Y\n",
        "X = dataset.data\n",
        "y = dataset.target"
      ],
      "metadata": {
        "id": "qRdijZK8lVjr"
      },
      "execution_count": 7,
      "outputs": []
    },
    {
      "cell_type": "code",
      "source": [
        "# Para o X tem-se 1797 linhas e 64 colunas\n",
        "X.shape"
      ],
      "metadata": {
        "colab": {
          "base_uri": "https://localhost:8080/"
        },
        "id": "0zdzLCntlVlF",
        "outputId": "b521dbd3-3bd1-476f-828a-588a2dd57f4d"
      },
      "execution_count": 8,
      "outputs": [
        {
          "output_type": "execute_result",
          "data": {
            "text/plain": [
              "(1797, 64)"
            ]
          },
          "metadata": {},
          "execution_count": 8
        }
      ]
    },
    {
      "cell_type": "code",
      "source": [
        "# Para o Y tem-se somente 1797 linhas e 1 coluna\n",
        "y.shape"
      ],
      "metadata": {
        "colab": {
          "base_uri": "https://localhost:8080/"
        },
        "id": "hUoBMy_IlVmB",
        "outputId": "fd006499-5909-451e-9856-ad4941e14b9c"
      },
      "execution_count": 9,
      "outputs": [
        {
          "output_type": "execute_result",
          "data": {
            "text/plain": [
              "(1797,)"
            ]
          },
          "metadata": {},
          "execution_count": 9
        }
      ]
    },
    {
      "cell_type": "markdown",
      "source": [
        "# **Pré-processamento e Normalização dos dados**\n",
        "\n",
        "* Para aplicar o algoritmo KNN é interessante normalizar os dados para que o algoritmo performe melhor."
      ],
      "metadata": {
        "id": "Vaq89cNct1lR"
      }
    },
    {
      "cell_type": "code",
      "source": [
        "# Dividindo a base de dados em treino e teste\n",
        "X_treino, testeData, Y_treino, testeLabels = train_test_split(X, y, test_size = 0.3, random_state = 101) # Portanto 30% da base será de teste e 70% de treino"
      ],
      "metadata": {
        "id": "elPIw6Z4lVnV"
      },
      "execution_count": 10,
      "outputs": []
    },
    {
      "cell_type": "code",
      "source": [
        "# Dividindo os dados de treino em base de treino e base de validação\n",
        "treinoData, validData, treinoLabels, validLabels = train_test_split(X_treino, Y_treino, \n",
        "                                                                    test_size = 0.1, random_state = 84) # Portanto 10% da base de treino será para validação"
      ],
      "metadata": {
        "id": "1YUd6LvDlVo3"
      },
      "execution_count": 11,
      "outputs": []
    },
    {
      "cell_type": "markdown",
      "source": [
        "**Normalizando as variáveis independentes utilizando a Média de X**"
      ],
      "metadata": {
        "id": "548C2o-gvGLG"
      }
    },
    {
      "cell_type": "code",
      "source": [
        "# Média de X\n",
        "X_mean = np.mean(X, axis = 0)\n",
        "\n",
        "# Normalizando os dados\n",
        "X_treino_norm = treinoData - X_mean\n",
        "X_teste_norm = testeData - X_mean\n",
        "X_valid_norm = validData - X_mean"
      ],
      "metadata": {
        "id": "ih3wAbAklVpq"
      },
      "execution_count": 12,
      "outputs": []
    },
    {
      "cell_type": "markdown",
      "source": [
        "# **Procurando o melhor valor de K**\n",
        "\n",
        "* O valor de K é o que determina quantos vizinhos serão analisados para poder comparar com o novo dado inserido. "
      ],
      "metadata": {
        "id": "sGdEq_0ICO67"
      }
    },
    {
      "cell_type": "code",
      "source": [
        "# Range dos valores de K\n",
        "kVals = range(1, 1000, 2) # Inicia em 1 e vai até o 30, pulando de 2 em 2. Somente os números impares"
      ],
      "metadata": {
        "id": "GrpQMJVflVqx"
      },
      "execution_count": 17,
      "outputs": []
    },
    {
      "cell_type": "code",
      "source": [
        "# Lista vazia para receber as acurácias de cada valor de K\n",
        "acuracias = []"
      ],
      "metadata": {
        "id": "RTvERKOalVsE"
      },
      "execution_count": 18,
      "outputs": []
    },
    {
      "cell_type": "code",
      "source": [
        "# Processo de loops de valores de K\n",
        "for k in kVals:\n",
        "\n",
        "  # Treinando um modelo KNN com cada valor de K\n",
        "  modeloKNN = KNeighborsClassifier(n_neighbors = k)\n",
        "  modeloKNN.fit(treinoData, treinoLabels)\n",
        "\n",
        "  # Avaliando o modelo e atualizando a lista de acurácias\n",
        "  score = modeloKNN.score(validData, validLabels)\n",
        "  print('Com K = %d, a acurácia é %.2f%%' % (k, score * 100))\n",
        "  acuracias.append(score)"
      ],
      "metadata": {
        "id": "B47o6Z5qlVtW",
        "colab": {
          "base_uri": "https://localhost:8080/"
        },
        "outputId": "ba739234-231b-4273-fe4f-4a0545ea80b0"
      },
      "execution_count": 19,
      "outputs": [
        {
          "output_type": "stream",
          "name": "stdout",
          "text": [
            "Com K = 1, a acurácia é 99.21%\n",
            "Com K = 3, a acurácia é 100.00%\n",
            "Com K = 5, a acurácia é 100.00%\n",
            "Com K = 7, a acurácia é 99.21%\n",
            "Com K = 9, a acurácia é 98.41%\n",
            "Com K = 11, a acurácia é 98.41%\n",
            "Com K = 13, a acurácia é 97.62%\n",
            "Com K = 15, a acurácia é 97.62%\n",
            "Com K = 17, a acurácia é 97.62%\n",
            "Com K = 19, a acurácia é 97.62%\n",
            "Com K = 21, a acurácia é 97.62%\n",
            "Com K = 23, a acurácia é 97.62%\n",
            "Com K = 25, a acurácia é 96.83%\n",
            "Com K = 27, a acurácia é 96.83%\n",
            "Com K = 29, a acurácia é 96.83%\n",
            "Com K = 31, a acurácia é 96.83%\n",
            "Com K = 33, a acurácia é 95.24%\n",
            "Com K = 35, a acurácia é 96.03%\n",
            "Com K = 37, a acurácia é 96.03%\n",
            "Com K = 39, a acurácia é 96.03%\n",
            "Com K = 41, a acurácia é 96.03%\n",
            "Com K = 43, a acurácia é 95.24%\n",
            "Com K = 45, a acurácia é 93.65%\n",
            "Com K = 47, a acurácia é 93.65%\n",
            "Com K = 49, a acurácia é 93.65%\n",
            "Com K = 51, a acurácia é 94.44%\n",
            "Com K = 53, a acurácia é 92.86%\n",
            "Com K = 55, a acurácia é 92.86%\n",
            "Com K = 57, a acurácia é 93.65%\n",
            "Com K = 59, a acurácia é 93.65%\n",
            "Com K = 61, a acurácia é 93.65%\n",
            "Com K = 63, a acurácia é 93.65%\n",
            "Com K = 65, a acurácia é 93.65%\n",
            "Com K = 67, a acurácia é 93.65%\n",
            "Com K = 69, a acurácia é 92.86%\n",
            "Com K = 71, a acurácia é 91.27%\n",
            "Com K = 73, a acurácia é 91.27%\n",
            "Com K = 75, a acurácia é 90.48%\n",
            "Com K = 77, a acurácia é 90.48%\n",
            "Com K = 79, a acurácia é 89.68%\n",
            "Com K = 81, a acurácia é 89.68%\n",
            "Com K = 83, a acurácia é 90.48%\n",
            "Com K = 85, a acurácia é 90.48%\n",
            "Com K = 87, a acurácia é 89.68%\n",
            "Com K = 89, a acurácia é 89.68%\n",
            "Com K = 91, a acurácia é 89.68%\n",
            "Com K = 93, a acurácia é 89.68%\n",
            "Com K = 95, a acurácia é 89.68%\n",
            "Com K = 97, a acurácia é 89.68%\n",
            "Com K = 99, a acurácia é 89.68%\n",
            "Com K = 101, a acurácia é 88.89%\n",
            "Com K = 103, a acurácia é 88.89%\n",
            "Com K = 105, a acurácia é 89.68%\n",
            "Com K = 107, a acurácia é 88.89%\n",
            "Com K = 109, a acurácia é 88.89%\n",
            "Com K = 111, a acurácia é 88.89%\n",
            "Com K = 113, a acurácia é 88.10%\n",
            "Com K = 115, a acurácia é 87.30%\n",
            "Com K = 117, a acurácia é 87.30%\n",
            "Com K = 119, a acurácia é 86.51%\n",
            "Com K = 121, a acurácia é 86.51%\n",
            "Com K = 123, a acurácia é 86.51%\n",
            "Com K = 125, a acurácia é 86.51%\n",
            "Com K = 127, a acurácia é 86.51%\n",
            "Com K = 129, a acurácia é 86.51%\n",
            "Com K = 131, a acurácia é 86.51%\n",
            "Com K = 133, a acurácia é 86.51%\n",
            "Com K = 135, a acurácia é 87.30%\n",
            "Com K = 137, a acurácia é 87.30%\n",
            "Com K = 139, a acurácia é 87.30%\n",
            "Com K = 141, a acurácia é 87.30%\n",
            "Com K = 143, a acurácia é 87.30%\n",
            "Com K = 145, a acurácia é 87.30%\n",
            "Com K = 147, a acurácia é 87.30%\n",
            "Com K = 149, a acurácia é 87.30%\n",
            "Com K = 151, a acurácia é 87.30%\n",
            "Com K = 153, a acurácia é 87.30%\n",
            "Com K = 155, a acurácia é 87.30%\n",
            "Com K = 157, a acurácia é 87.30%\n",
            "Com K = 159, a acurácia é 86.51%\n",
            "Com K = 161, a acurácia é 86.51%\n",
            "Com K = 163, a acurácia é 86.51%\n",
            "Com K = 165, a acurácia é 86.51%\n",
            "Com K = 167, a acurácia é 86.51%\n",
            "Com K = 169, a acurácia é 86.51%\n",
            "Com K = 171, a acurácia é 85.71%\n",
            "Com K = 173, a acurácia é 87.30%\n",
            "Com K = 175, a acurácia é 87.30%\n",
            "Com K = 177, a acurácia é 87.30%\n",
            "Com K = 179, a acurácia é 86.51%\n",
            "Com K = 181, a acurácia é 85.71%\n",
            "Com K = 183, a acurácia é 85.71%\n",
            "Com K = 185, a acurácia é 85.71%\n",
            "Com K = 187, a acurácia é 85.71%\n",
            "Com K = 189, a acurácia é 85.71%\n",
            "Com K = 191, a acurácia é 85.71%\n",
            "Com K = 193, a acurácia é 84.92%\n",
            "Com K = 195, a acurácia é 85.71%\n",
            "Com K = 197, a acurácia é 85.71%\n",
            "Com K = 199, a acurácia é 85.71%\n",
            "Com K = 201, a acurácia é 85.71%\n",
            "Com K = 203, a acurácia é 85.71%\n",
            "Com K = 205, a acurácia é 84.92%\n",
            "Com K = 207, a acurácia é 84.92%\n",
            "Com K = 209, a acurácia é 84.92%\n",
            "Com K = 211, a acurácia é 84.92%\n",
            "Com K = 213, a acurácia é 84.92%\n",
            "Com K = 215, a acurácia é 84.92%\n",
            "Com K = 217, a acurácia é 84.92%\n",
            "Com K = 219, a acurácia é 84.92%\n",
            "Com K = 221, a acurácia é 84.92%\n",
            "Com K = 223, a acurácia é 84.92%\n",
            "Com K = 225, a acurácia é 84.92%\n",
            "Com K = 227, a acurácia é 84.92%\n",
            "Com K = 229, a acurácia é 84.92%\n",
            "Com K = 231, a acurácia é 84.13%\n",
            "Com K = 233, a acurácia é 84.13%\n",
            "Com K = 235, a acurácia é 84.13%\n",
            "Com K = 237, a acurácia é 84.13%\n",
            "Com K = 239, a acurácia é 83.33%\n",
            "Com K = 241, a acurácia é 83.33%\n",
            "Com K = 243, a acurácia é 83.33%\n",
            "Com K = 245, a acurácia é 83.33%\n",
            "Com K = 247, a acurácia é 83.33%\n",
            "Com K = 249, a acurácia é 83.33%\n",
            "Com K = 251, a acurácia é 83.33%\n",
            "Com K = 253, a acurácia é 83.33%\n",
            "Com K = 255, a acurácia é 83.33%\n",
            "Com K = 257, a acurácia é 84.13%\n",
            "Com K = 259, a acurácia é 84.13%\n",
            "Com K = 261, a acurácia é 84.13%\n",
            "Com K = 263, a acurácia é 84.13%\n",
            "Com K = 265, a acurácia é 83.33%\n",
            "Com K = 267, a acurácia é 84.13%\n",
            "Com K = 269, a acurácia é 83.33%\n",
            "Com K = 271, a acurácia é 82.54%\n",
            "Com K = 273, a acurácia é 82.54%\n",
            "Com K = 275, a acurácia é 82.54%\n",
            "Com K = 277, a acurácia é 82.54%\n",
            "Com K = 279, a acurácia é 80.95%\n",
            "Com K = 281, a acurácia é 80.95%\n",
            "Com K = 283, a acurácia é 80.95%\n",
            "Com K = 285, a acurácia é 80.95%\n",
            "Com K = 287, a acurácia é 80.95%\n",
            "Com K = 289, a acurácia é 80.95%\n",
            "Com K = 291, a acurácia é 80.95%\n",
            "Com K = 293, a acurácia é 80.16%\n",
            "Com K = 295, a acurácia é 80.16%\n",
            "Com K = 297, a acurácia é 80.16%\n",
            "Com K = 299, a acurácia é 80.95%\n",
            "Com K = 301, a acurácia é 79.37%\n",
            "Com K = 303, a acurácia é 78.57%\n",
            "Com K = 305, a acurácia é 78.57%\n",
            "Com K = 307, a acurácia é 77.78%\n",
            "Com K = 309, a acurácia é 76.98%\n",
            "Com K = 311, a acurácia é 79.37%\n",
            "Com K = 313, a acurácia é 78.57%\n",
            "Com K = 315, a acurácia é 78.57%\n",
            "Com K = 317, a acurácia é 76.98%\n",
            "Com K = 319, a acurácia é 75.40%\n",
            "Com K = 321, a acurácia é 75.40%\n",
            "Com K = 323, a acurácia é 75.40%\n",
            "Com K = 325, a acurácia é 75.40%\n",
            "Com K = 327, a acurácia é 75.40%\n",
            "Com K = 329, a acurácia é 74.60%\n",
            "Com K = 331, a acurácia é 74.60%\n",
            "Com K = 333, a acurácia é 74.60%\n",
            "Com K = 335, a acurácia é 75.40%\n",
            "Com K = 337, a acurácia é 75.40%\n",
            "Com K = 339, a acurácia é 73.81%\n",
            "Com K = 341, a acurácia é 73.81%\n",
            "Com K = 343, a acurácia é 73.02%\n",
            "Com K = 345, a acurácia é 73.81%\n",
            "Com K = 347, a acurácia é 73.81%\n",
            "Com K = 349, a acurácia é 73.81%\n",
            "Com K = 351, a acurácia é 73.81%\n",
            "Com K = 353, a acurácia é 73.81%\n",
            "Com K = 355, a acurácia é 72.22%\n",
            "Com K = 357, a acurácia é 73.81%\n",
            "Com K = 359, a acurácia é 73.02%\n",
            "Com K = 361, a acurácia é 73.81%\n",
            "Com K = 363, a acurácia é 72.22%\n",
            "Com K = 365, a acurácia é 72.22%\n",
            "Com K = 367, a acurácia é 73.02%\n",
            "Com K = 369, a acurácia é 72.22%\n",
            "Com K = 371, a acurácia é 69.84%\n",
            "Com K = 373, a acurácia é 70.63%\n",
            "Com K = 375, a acurácia é 70.63%\n",
            "Com K = 377, a acurácia é 70.63%\n",
            "Com K = 379, a acurácia é 71.43%\n",
            "Com K = 381, a acurácia é 71.43%\n",
            "Com K = 383, a acurácia é 71.43%\n",
            "Com K = 385, a acurácia é 72.22%\n",
            "Com K = 387, a acurácia é 71.43%\n",
            "Com K = 389, a acurácia é 71.43%\n",
            "Com K = 391, a acurácia é 71.43%\n",
            "Com K = 393, a acurácia é 70.63%\n",
            "Com K = 395, a acurácia é 69.84%\n",
            "Com K = 397, a acurácia é 70.63%\n",
            "Com K = 399, a acurácia é 71.43%\n",
            "Com K = 401, a acurácia é 71.43%\n",
            "Com K = 403, a acurácia é 71.43%\n",
            "Com K = 405, a acurácia é 70.63%\n",
            "Com K = 407, a acurácia é 72.22%\n",
            "Com K = 409, a acurácia é 71.43%\n",
            "Com K = 411, a acurácia é 71.43%\n",
            "Com K = 413, a acurácia é 72.22%\n",
            "Com K = 415, a acurácia é 71.43%\n",
            "Com K = 417, a acurácia é 71.43%\n",
            "Com K = 419, a acurácia é 70.63%\n",
            "Com K = 421, a acurácia é 69.84%\n",
            "Com K = 423, a acurácia é 69.84%\n",
            "Com K = 425, a acurácia é 68.25%\n",
            "Com K = 427, a acurácia é 68.25%\n",
            "Com K = 429, a acurácia é 69.84%\n",
            "Com K = 431, a acurácia é 69.05%\n",
            "Com K = 433, a acurácia é 69.05%\n",
            "Com K = 435, a acurácia é 69.05%\n",
            "Com K = 437, a acurácia é 69.84%\n",
            "Com K = 439, a acurácia é 69.84%\n",
            "Com K = 441, a acurácia é 69.05%\n",
            "Com K = 443, a acurácia é 69.05%\n",
            "Com K = 445, a acurácia é 69.05%\n",
            "Com K = 447, a acurácia é 68.25%\n",
            "Com K = 449, a acurácia é 66.67%\n",
            "Com K = 451, a acurácia é 67.46%\n",
            "Com K = 453, a acurácia é 67.46%\n",
            "Com K = 455, a acurácia é 66.67%\n",
            "Com K = 457, a acurácia é 66.67%\n",
            "Com K = 459, a acurácia é 66.67%\n",
            "Com K = 461, a acurácia é 65.87%\n",
            "Com K = 463, a acurácia é 65.87%\n",
            "Com K = 465, a acurácia é 65.87%\n",
            "Com K = 467, a acurácia é 65.87%\n",
            "Com K = 469, a acurácia é 66.67%\n",
            "Com K = 471, a acurácia é 66.67%\n",
            "Com K = 473, a acurácia é 65.87%\n",
            "Com K = 475, a acurácia é 66.67%\n",
            "Com K = 477, a acurácia é 65.87%\n",
            "Com K = 479, a acurácia é 65.08%\n",
            "Com K = 481, a acurácia é 65.08%\n",
            "Com K = 483, a acurácia é 65.08%\n",
            "Com K = 485, a acurácia é 64.29%\n",
            "Com K = 487, a acurácia é 65.87%\n",
            "Com K = 489, a acurácia é 65.08%\n",
            "Com K = 491, a acurácia é 65.08%\n",
            "Com K = 493, a acurácia é 65.08%\n",
            "Com K = 495, a acurácia é 66.67%\n",
            "Com K = 497, a acurácia é 65.08%\n",
            "Com K = 499, a acurácia é 64.29%\n",
            "Com K = 501, a acurácia é 65.08%\n",
            "Com K = 503, a acurácia é 65.87%\n",
            "Com K = 505, a acurácia é 65.87%\n",
            "Com K = 507, a acurácia é 64.29%\n",
            "Com K = 509, a acurácia é 64.29%\n",
            "Com K = 511, a acurácia é 63.49%\n",
            "Com K = 513, a acurácia é 63.49%\n",
            "Com K = 515, a acurácia é 64.29%\n",
            "Com K = 517, a acurácia é 64.29%\n",
            "Com K = 519, a acurácia é 64.29%\n",
            "Com K = 521, a acurácia é 64.29%\n",
            "Com K = 523, a acurácia é 65.08%\n",
            "Com K = 525, a acurácia é 65.08%\n",
            "Com K = 527, a acurácia é 65.08%\n",
            "Com K = 529, a acurácia é 65.87%\n",
            "Com K = 531, a acurácia é 65.08%\n",
            "Com K = 533, a acurácia é 65.08%\n",
            "Com K = 535, a acurácia é 65.08%\n",
            "Com K = 537, a acurácia é 65.08%\n",
            "Com K = 539, a acurácia é 65.08%\n",
            "Com K = 541, a acurácia é 65.08%\n",
            "Com K = 543, a acurácia é 65.08%\n",
            "Com K = 545, a acurácia é 65.08%\n",
            "Com K = 547, a acurácia é 65.08%\n",
            "Com K = 549, a acurácia é 65.08%\n",
            "Com K = 551, a acurácia é 65.08%\n",
            "Com K = 553, a acurácia é 64.29%\n",
            "Com K = 555, a acurácia é 64.29%\n",
            "Com K = 557, a acurácia é 63.49%\n",
            "Com K = 559, a acurácia é 62.70%\n",
            "Com K = 561, a acurácia é 62.70%\n",
            "Com K = 563, a acurácia é 61.90%\n",
            "Com K = 565, a acurácia é 61.90%\n",
            "Com K = 567, a acurácia é 61.90%\n",
            "Com K = 569, a acurácia é 62.70%\n",
            "Com K = 571, a acurácia é 63.49%\n",
            "Com K = 573, a acurácia é 63.49%\n",
            "Com K = 575, a acurácia é 63.49%\n",
            "Com K = 577, a acurácia é 62.70%\n",
            "Com K = 579, a acurácia é 62.70%\n",
            "Com K = 581, a acurácia é 62.70%\n",
            "Com K = 583, a acurácia é 62.70%\n",
            "Com K = 585, a acurácia é 61.90%\n",
            "Com K = 587, a acurácia é 61.90%\n",
            "Com K = 589, a acurácia é 61.90%\n",
            "Com K = 591, a acurácia é 61.90%\n",
            "Com K = 593, a acurácia é 61.90%\n",
            "Com K = 595, a acurácia é 61.90%\n",
            "Com K = 597, a acurácia é 61.90%\n",
            "Com K = 599, a acurácia é 61.90%\n",
            "Com K = 601, a acurácia é 61.11%\n",
            "Com K = 603, a acurácia é 61.11%\n",
            "Com K = 605, a acurácia é 61.11%\n",
            "Com K = 607, a acurácia é 60.32%\n",
            "Com K = 609, a acurácia é 60.32%\n",
            "Com K = 611, a acurácia é 60.32%\n",
            "Com K = 613, a acurácia é 60.32%\n",
            "Com K = 615, a acurácia é 58.73%\n",
            "Com K = 617, a acurácia é 58.73%\n",
            "Com K = 619, a acurácia é 59.52%\n",
            "Com K = 621, a acurácia é 59.52%\n",
            "Com K = 623, a acurácia é 59.52%\n",
            "Com K = 625, a acurácia é 59.52%\n",
            "Com K = 627, a acurácia é 59.52%\n",
            "Com K = 629, a acurácia é 59.52%\n",
            "Com K = 631, a acurácia é 59.52%\n",
            "Com K = 633, a acurácia é 59.52%\n",
            "Com K = 635, a acurácia é 59.52%\n",
            "Com K = 637, a acurácia é 59.52%\n",
            "Com K = 639, a acurácia é 59.52%\n",
            "Com K = 641, a acurácia é 59.52%\n",
            "Com K = 643, a acurácia é 59.52%\n",
            "Com K = 645, a acurácia é 59.52%\n",
            "Com K = 647, a acurácia é 60.32%\n",
            "Com K = 649, a acurácia é 60.32%\n",
            "Com K = 651, a acurácia é 60.32%\n",
            "Com K = 653, a acurácia é 59.52%\n",
            "Com K = 655, a acurácia é 59.52%\n",
            "Com K = 657, a acurácia é 59.52%\n",
            "Com K = 659, a acurácia é 59.52%\n",
            "Com K = 661, a acurácia é 58.73%\n",
            "Com K = 663, a acurácia é 59.52%\n",
            "Com K = 665, a acurácia é 59.52%\n",
            "Com K = 667, a acurácia é 58.73%\n",
            "Com K = 669, a acurácia é 57.14%\n",
            "Com K = 671, a acurácia é 57.14%\n",
            "Com K = 673, a acurácia é 57.94%\n",
            "Com K = 675, a acurácia é 57.94%\n",
            "Com K = 677, a acurácia é 58.73%\n",
            "Com K = 679, a acurácia é 57.94%\n",
            "Com K = 681, a acurácia é 57.14%\n",
            "Com K = 683, a acurácia é 57.14%\n",
            "Com K = 685, a acurácia é 56.35%\n",
            "Com K = 687, a acurácia é 54.76%\n",
            "Com K = 689, a acurácia é 54.76%\n",
            "Com K = 691, a acurácia é 54.76%\n",
            "Com K = 693, a acurácia é 53.97%\n",
            "Com K = 695, a acurácia é 53.97%\n",
            "Com K = 697, a acurácia é 53.97%\n",
            "Com K = 699, a acurácia é 53.97%\n",
            "Com K = 701, a acurácia é 53.17%\n",
            "Com K = 703, a acurácia é 52.38%\n",
            "Com K = 705, a acurácia é 53.17%\n",
            "Com K = 707, a acurácia é 53.17%\n",
            "Com K = 709, a acurácia é 53.17%\n",
            "Com K = 711, a acurácia é 52.38%\n",
            "Com K = 713, a acurácia é 50.79%\n",
            "Com K = 715, a acurácia é 50.79%\n",
            "Com K = 717, a acurácia é 50.79%\n",
            "Com K = 719, a acurácia é 50.79%\n",
            "Com K = 721, a acurácia é 50.79%\n",
            "Com K = 723, a acurácia é 50.79%\n",
            "Com K = 725, a acurácia é 50.79%\n",
            "Com K = 727, a acurácia é 50.79%\n",
            "Com K = 729, a acurácia é 50.00%\n",
            "Com K = 731, a acurácia é 50.00%\n",
            "Com K = 733, a acurácia é 50.00%\n",
            "Com K = 735, a acurácia é 49.21%\n",
            "Com K = 737, a acurácia é 47.62%\n",
            "Com K = 739, a acurácia é 47.62%\n",
            "Com K = 741, a acurácia é 47.62%\n",
            "Com K = 743, a acurácia é 47.62%\n",
            "Com K = 745, a acurácia é 48.41%\n",
            "Com K = 747, a acurácia é 46.83%\n",
            "Com K = 749, a acurácia é 46.03%\n",
            "Com K = 751, a acurácia é 46.03%\n",
            "Com K = 753, a acurácia é 46.03%\n",
            "Com K = 755, a acurácia é 46.03%\n",
            "Com K = 757, a acurácia é 46.03%\n",
            "Com K = 759, a acurácia é 46.83%\n",
            "Com K = 761, a acurácia é 46.83%\n",
            "Com K = 763, a acurácia é 46.83%\n",
            "Com K = 765, a acurácia é 46.03%\n",
            "Com K = 767, a acurácia é 46.03%\n",
            "Com K = 769, a acurácia é 45.24%\n",
            "Com K = 771, a acurácia é 45.24%\n",
            "Com K = 773, a acurácia é 44.44%\n",
            "Com K = 775, a acurácia é 44.44%\n",
            "Com K = 777, a acurácia é 43.65%\n",
            "Com K = 779, a acurácia é 43.65%\n",
            "Com K = 781, a acurácia é 42.86%\n",
            "Com K = 783, a acurácia é 42.86%\n",
            "Com K = 785, a acurácia é 42.86%\n",
            "Com K = 787, a acurácia é 42.06%\n",
            "Com K = 789, a acurácia é 41.27%\n",
            "Com K = 791, a acurácia é 41.27%\n",
            "Com K = 793, a acurácia é 41.27%\n",
            "Com K = 795, a acurácia é 41.27%\n",
            "Com K = 797, a acurácia é 41.27%\n",
            "Com K = 799, a acurácia é 40.48%\n",
            "Com K = 801, a acurácia é 39.68%\n",
            "Com K = 803, a acurácia é 39.68%\n",
            "Com K = 805, a acurácia é 38.89%\n",
            "Com K = 807, a acurácia é 39.68%\n",
            "Com K = 809, a acurácia é 39.68%\n",
            "Com K = 811, a acurácia é 39.68%\n",
            "Com K = 813, a acurácia é 39.68%\n",
            "Com K = 815, a acurácia é 39.68%\n",
            "Com K = 817, a acurácia é 39.68%\n",
            "Com K = 819, a acurácia é 39.68%\n",
            "Com K = 821, a acurácia é 39.68%\n",
            "Com K = 823, a acurácia é 37.30%\n",
            "Com K = 825, a acurácia é 37.30%\n",
            "Com K = 827, a acurácia é 36.51%\n",
            "Com K = 829, a acurácia é 36.51%\n",
            "Com K = 831, a acurácia é 37.30%\n",
            "Com K = 833, a acurácia é 38.10%\n",
            "Com K = 835, a acurácia é 37.30%\n",
            "Com K = 837, a acurácia é 37.30%\n",
            "Com K = 839, a acurácia é 38.10%\n",
            "Com K = 841, a acurácia é 37.30%\n",
            "Com K = 843, a acurácia é 37.30%\n",
            "Com K = 845, a acurácia é 36.51%\n",
            "Com K = 847, a acurácia é 37.30%\n",
            "Com K = 849, a acurácia é 36.51%\n",
            "Com K = 851, a acurácia é 36.51%\n",
            "Com K = 853, a acurácia é 35.71%\n",
            "Com K = 855, a acurácia é 34.13%\n",
            "Com K = 857, a acurácia é 34.13%\n",
            "Com K = 859, a acurácia é 34.13%\n",
            "Com K = 861, a acurácia é 34.13%\n",
            "Com K = 863, a acurácia é 34.13%\n",
            "Com K = 865, a acurácia é 34.13%\n",
            "Com K = 867, a acurácia é 33.33%\n",
            "Com K = 869, a acurácia é 31.75%\n",
            "Com K = 871, a acurácia é 31.75%\n",
            "Com K = 873, a acurácia é 31.75%\n",
            "Com K = 875, a acurácia é 30.95%\n",
            "Com K = 877, a acurácia é 30.95%\n",
            "Com K = 879, a acurácia é 30.95%\n",
            "Com K = 881, a acurácia é 30.95%\n",
            "Com K = 883, a acurácia é 30.16%\n",
            "Com K = 885, a acurácia é 30.16%\n",
            "Com K = 887, a acurácia é 30.16%\n",
            "Com K = 889, a acurácia é 30.16%\n",
            "Com K = 891, a acurácia é 30.16%\n",
            "Com K = 893, a acurácia é 29.37%\n",
            "Com K = 895, a acurácia é 29.37%\n",
            "Com K = 897, a acurácia é 29.37%\n",
            "Com K = 899, a acurácia é 29.37%\n",
            "Com K = 901, a acurácia é 29.37%\n",
            "Com K = 903, a acurácia é 29.37%\n",
            "Com K = 905, a acurácia é 28.57%\n",
            "Com K = 907, a acurácia é 28.57%\n",
            "Com K = 909, a acurácia é 28.57%\n",
            "Com K = 911, a acurácia é 27.78%\n",
            "Com K = 913, a acurácia é 27.78%\n",
            "Com K = 915, a acurácia é 26.98%\n",
            "Com K = 917, a acurácia é 26.98%\n",
            "Com K = 919, a acurácia é 26.98%\n",
            "Com K = 921, a acurácia é 26.19%\n",
            "Com K = 923, a acurácia é 26.19%\n",
            "Com K = 925, a acurácia é 26.19%\n",
            "Com K = 927, a acurácia é 26.19%\n",
            "Com K = 929, a acurácia é 26.19%\n",
            "Com K = 931, a acurácia é 26.19%\n",
            "Com K = 933, a acurácia é 26.19%\n",
            "Com K = 935, a acurácia é 26.19%\n",
            "Com K = 937, a acurácia é 26.19%\n",
            "Com K = 939, a acurácia é 26.98%\n",
            "Com K = 941, a acurácia é 26.98%\n",
            "Com K = 943, a acurácia é 26.98%\n",
            "Com K = 945, a acurácia é 26.98%\n",
            "Com K = 947, a acurácia é 26.98%\n",
            "Com K = 949, a acurácia é 26.98%\n",
            "Com K = 951, a acurácia é 26.98%\n",
            "Com K = 953, a acurácia é 26.98%\n",
            "Com K = 955, a acurácia é 26.98%\n",
            "Com K = 957, a acurácia é 26.98%\n",
            "Com K = 959, a acurácia é 26.98%\n",
            "Com K = 961, a acurácia é 26.98%\n",
            "Com K = 963, a acurácia é 25.40%\n",
            "Com K = 965, a acurácia é 25.40%\n",
            "Com K = 967, a acurácia é 25.40%\n",
            "Com K = 969, a acurácia é 24.60%\n",
            "Com K = 971, a acurácia é 23.02%\n",
            "Com K = 973, a acurácia é 21.43%\n",
            "Com K = 975, a acurácia é 21.43%\n",
            "Com K = 977, a acurácia é 21.43%\n",
            "Com K = 979, a acurácia é 21.43%\n",
            "Com K = 981, a acurácia é 21.43%\n",
            "Com K = 983, a acurácia é 21.43%\n",
            "Com K = 985, a acurácia é 21.43%\n",
            "Com K = 987, a acurácia é 20.63%\n",
            "Com K = 989, a acurácia é 20.63%\n",
            "Com K = 991, a acurácia é 20.63%\n",
            "Com K = 993, a acurácia é 20.63%\n",
            "Com K = 995, a acurácia é 20.63%\n",
            "Com K = 997, a acurácia é 19.84%\n",
            "Com K = 999, a acurácia é 19.84%\n"
          ]
        }
      ]
    },
    {
      "cell_type": "code",
      "source": [
        "# Obtendo o melhor valor de K dentro da lista\n",
        "i = np.argmax(acuracias)\n",
        "print('K = %d obteve o melhor valor de acurácia sendo %.2f%% nos dados de validação.' % (kVals[i], acuracias[i] * 100))"
      ],
      "metadata": {
        "id": "n8jAccPElVuY",
        "colab": {
          "base_uri": "https://localhost:8080/"
        },
        "outputId": "ea9a2b95-76f2-44d4-a378-a3dacb226c0f"
      },
      "execution_count": 20,
      "outputs": [
        {
          "output_type": "stream",
          "name": "stdout",
          "text": [
            "K = 3 obteve o melhor valor de acurácia sendo 100.00% nos dados de validação.\n"
          ]
        }
      ]
    },
    {
      "cell_type": "markdown",
      "source": [
        "# **Construindo e treinando o modelo KNN** "
      ],
      "metadata": {
        "id": "20wwfsdtGmWn"
      }
    },
    {
      "cell_type": "code",
      "source": [
        "# Modelo final\n",
        "model = KNeighborsClassifier(n_neighbors = kVals[i])"
      ],
      "metadata": {
        "id": "PQUjHlIPlVvz"
      },
      "execution_count": 21,
      "outputs": []
    },
    {
      "cell_type": "code",
      "source": [
        "# Treinando o modelo\n",
        "model.fit(treinoData, treinoLabels)"
      ],
      "metadata": {
        "id": "0dhu7jDjlVxH",
        "colab": {
          "base_uri": "https://localhost:8080/"
        },
        "outputId": "fe635bea-956b-4196-9620-b4ab210913e4"
      },
      "execution_count": 22,
      "outputs": [
        {
          "output_type": "execute_result",
          "data": {
            "text/plain": [
              "KNeighborsClassifier(n_neighbors=3)"
            ]
          },
          "metadata": {},
          "execution_count": 22
        }
      ]
    },
    {
      "cell_type": "markdown",
      "source": [
        "# **Realizando Previsões com o modelo elaborado**\n",
        "\n",
        "* Dados de teste serão utilizados"
      ],
      "metadata": {
        "id": "LEF13k8oHYlI"
      }
    },
    {
      "cell_type": "code",
      "source": [
        "# Realizando as previsões\n",
        "predictions = model.predict(testeData)"
      ],
      "metadata": {
        "id": "CIW_eOxqlVyi"
      },
      "execution_count": 23,
      "outputs": []
    },
    {
      "cell_type": "code",
      "source": [
        "# Performance do modelo nos dados de teste\n",
        "print('Avaliação do modelo nos dados de Teste:\\n')\n",
        "print(classification_report(testeLabels, predictions))  "
      ],
      "metadata": {
        "id": "D9HZTZpalVz_",
        "colab": {
          "base_uri": "https://localhost:8080/"
        },
        "outputId": "7234fe48-8ae2-4a71-d722-4feda6ba8a99"
      },
      "execution_count": 24,
      "outputs": [
        {
          "output_type": "stream",
          "name": "stdout",
          "text": [
            "Avaliação do modelo nos dados de Teste:\n",
            "\n",
            "              precision    recall  f1-score   support\n",
            "\n",
            "           0       1.00      1.00      1.00        53\n",
            "           1       0.95      0.98      0.96        55\n",
            "           2       1.00      1.00      1.00        49\n",
            "           3       0.98      0.98      0.98        54\n",
            "           4       1.00      0.98      0.99        61\n",
            "           5       0.98      1.00      0.99        59\n",
            "           6       1.00      0.98      0.99        46\n",
            "           7       1.00      1.00      1.00        56\n",
            "           8       1.00      0.95      0.97        59\n",
            "           9       0.96      1.00      0.98        48\n",
            "\n",
            "    accuracy                           0.99       540\n",
            "   macro avg       0.99      0.99      0.99       540\n",
            "weighted avg       0.99      0.99      0.99       540\n",
            "\n"
          ]
        }
      ]
    },
    {
      "cell_type": "code",
      "source": [
        "# Matriz de Confusão do modelo\n",
        "print('Confusion Matrix: \\n')\n",
        "print(confusion_matrix(testeLabels, predictions))"
      ],
      "metadata": {
        "id": "_w9ti1E_lV1T",
        "colab": {
          "base_uri": "https://localhost:8080/"
        },
        "outputId": "3049d992-e2ce-4d69-ff7e-f13aa2127ab1"
      },
      "execution_count": 25,
      "outputs": [
        {
          "output_type": "stream",
          "name": "stdout",
          "text": [
            "Confusion Matrix: \n",
            "\n",
            "[[53  0  0  0  0  0  0  0  0  0]\n",
            " [ 0 54  0  0  0  1  0  0  0  0]\n",
            " [ 0  0 49  0  0  0  0  0  0  0]\n",
            " [ 0  0  0 53  0  0  0  0  0  1]\n",
            " [ 0  0  0  0 60  0  0  0  0  1]\n",
            " [ 0  0  0  0  0 59  0  0  0  0]\n",
            " [ 0  1  0  0  0  0 45  0  0  0]\n",
            " [ 0  0  0  0  0  0  0 56  0  0]\n",
            " [ 0  2  0  1  0  0  0  0 56  0]\n",
            " [ 0  0  0  0  0  0  0  0  0 48]]\n"
          ]
        }
      ]
    },
    {
      "cell_type": "code",
      "source": [
        "# Realizando previsões com o modelo treinado usando dados de teste\n",
        "for i in np.random.randint(0, high=len(testeLabels), size = (10,)):\n",
        "\n",
        "  # Recebe a imagem e faz a previsão\n",
        "    image = testeData[i]\n",
        "    prediction = model.predict([image])[0]\n",
        "\n",
        "  # Mostra as previsões\n",
        "    imgdata = np.array(image, dtype='float')\n",
        "    pixels = imgdata.reshape((8,8))\n",
        "    plt.imshow(pixels,cmap='gray')\n",
        "    plt.annotate(prediction,(3,3),bbox={'facecolor':'white'},fontsize=16)\n",
        "    print(\"Digito obtido pela previsão: {}\".format(prediction))\n",
        "    plt.show()"
      ],
      "metadata": {
        "id": "N2LuWcLJlV2x",
        "colab": {
          "base_uri": "https://localhost:8080/",
          "height": 1000
        },
        "outputId": "a81a6591-073c-42e0-d9d4-47ae4219c8db"
      },
      "execution_count": 32,
      "outputs": [
        {
          "output_type": "stream",
          "name": "stdout",
          "text": [
            "Digito obtido pela previsão: 3\n"
          ]
        },
        {
          "output_type": "display_data",
          "data": {
            "image/png": "[encoded data removed]",
            "text/plain": [
              "<Figure size 432x288 with 1 Axes>"
            ]
          },
          "metadata": {
            "needs_background": "light"
          }
        },
        {
          "output_type": "stream",
          "name": "stdout",
          "text": [
            "Digito obtido pela previsão: 8\n"
          ]
        },
        {
          "output_type": "display_data",
          "data": {
            "image/png": "[encoded data removed]",
            "text/plain": [
              "<Figure size 432x288 with 1 Axes>"
            ]
          },
          "metadata": {
            "needs_background": "light"
          }
        },
        {
          "output_type": "stream",
          "name": "stdout",
          "text": [
            "Digito obtido pela previsão: 5\n"
          ]
        },
        {
          "output_type": "display_data",
          "data": {
            "image/png": "[encoded data removed]",
            "text/plain": [
              "<Figure size 432x288 with 1 Axes>"
            ]
          },
          "metadata": {
            "needs_background": "light"
          }
        },
        {
          "output_type": "stream",
          "name": "stdout",
          "text": [
            "Digito obtido pela previsão: 4\n"
          ]
        },
        {
          "output_type": "display_data",
          "data": {
            "image/png": "[encoded data removed]",
            "text/plain": [
              "<Figure size 432x288 with 1 Axes>"
            ]
          },
          "metadata": {
            "needs_background": "light"
          }
        },
        {
          "output_type": "stream",
          "name": "stdout",
          "text": [
            "Digito obtido pela previsão: 2\n"
          ]
        },
        {
          "output_type": "display_data",
          "data": {
            "image/png": "[encoded data removed]",
            "text/plain": [
              "<Figure size 432x288 with 1 Axes>"
            ]
          },
          "metadata": {
            "needs_background": "light"
          }
        },
        {
          "output_type": "stream",
          "name": "stdout",
          "text": [
            "Digito obtido pela previsão: 7\n"
          ]
        },
        {
          "output_type": "display_data",
          "data": {
            "image/png": "[encoded data removed]",
            "text/plain": [
              "<Figure size 432x288 with 1 Axes>"
            ]
          },
          "metadata": {
            "needs_background": "light"
          }
        },
        {
          "output_type": "stream",
          "name": "stdout",
          "text": [
            "Digito obtido pela previsão: 0\n"
          ]
        },
        {
          "output_type": "display_data",
          "data": {
            "image/png": "[encoded data removed]",
            "text/plain": [
              "<Figure size 432x288 with 1 Axes>"
            ]
          },
          "metadata": {
            "needs_background": "light"
          }
        },
        {
          "output_type": "stream",
          "name": "stdout",
          "text": [
            "Digito obtido pela previsão: 0\n"
          ]
        },
        {
          "output_type": "display_data",
          "data": {
            "image/png": "[encoded data removed]",
            "text/plain": [
              "<Figure size 432x288 with 1 Axes>"
            ]
          },
          "metadata": {
            "needs_background": "light"
          }
        },
        {
          "output_type": "stream",
          "name": "stdout",
          "text": [
            "Digito obtido pela previsão: 0\n"
          ]
        },
        {
          "output_type": "display_data",
          "data": {
            "image/png": "[encoded data removed]",
            "text/plain": [
              "<Figure size 432x288 with 1 Axes>"
            ]
          },
          "metadata": {
            "needs_background": "light"
          }
        },
        {
          "output_type": "stream",
          "name": "stdout",
          "text": [
            "Digito obtido pela previsão: 0\n"
          ]
        },
        {
          "output_type": "display_data",
          "data": {
            "image/png": "[encoded data removed]",
            "text/plain": [
              "<Figure size 432x288 with 1 Axes>"
            ]
          },
          "metadata": {
            "needs_background": "light"
          }
        }
      ]
    },
    {
      "cell_type": "markdown",
      "source": [
        "# **Realizando Previsões em novos dados no modelo treinado**"
      ],
      "metadata": {
        "id": "9Jro-acIOUEg"
      }
    },
    {
      "cell_type": "code",
      "source": [
        "# Criando um novo dígito\n",
        "novoDigito = [0.,  0.,  0.,  8., 15.,  1.,  0.,  0.,  0.,  0.,  0., 12., 14.,\n",
        "              0.,  0.,  0.,  0.,  0.,  3., 16.,  7.,  0.,  0.,  0.,  0.,  0.,\n",
        "              6., 16.,  2.,  0.,  0.,  0.,  0.,  0.,  7., 16., 16., 13.,  5.,\n",
        "              0.,  0.,  0., 15., 16.,  9.,  9., 14.,  0.,  0.,  0.,  3., 14.,\n",
        "              9.,  2., 16.,  2.,  0.,  0.,  0.,  7., 15., 16., 11.,  0.]"
      ],
      "metadata": {
        "id": "O4QjfqPdlV4D"
      },
      "execution_count": 38,
      "outputs": []
    },
    {
      "cell_type": "code",
      "source": [
        "# Normalizando um novo digito com base na média de X\n",
        "novoDigito_norm = novoDigito - X_mean"
      ],
      "metadata": {
        "id": "ALpH_-DBlV5g"
      },
      "execution_count": 39,
      "outputs": []
    },
    {
      "cell_type": "code",
      "source": [
        "# Realizando a previsão\n",
        "novaPrevisao = model.predict([novoDigito_norm]) "
      ],
      "metadata": {
        "id": "b2ED5fsalV63"
      },
      "execution_count": 40,
      "outputs": []
    },
    {
      "cell_type": "code",
      "source": [
        "# Previsão do modelo\n",
        "imgdata = np.array(novoDigito, dtype='float') # Transforma o novo digito em um numpy array\n",
        "pixels = imgdata.reshape((8,8)) # Transforma o numpy array em uma matriz 8x8\n",
        "plt.imshow(pixels, cmap='gray') # Exibe a imagem do novo digito\n",
        "plt.annotate(novaPrevisao,(3,3), bbox={'facecolor':'white'},fontsize=16) # Exibe a nova previsão na posição 3x3 da imagem. \n",
        "print(\"Digito obtido na previsão: {}\".format(novaPrevisao)) # Exibe a previsão\n",
        "plt.show() # Mostra a imagem"
      ],
      "metadata": {
        "id": "DX-prTuylV70",
        "colab": {
          "base_uri": "https://localhost:8080/",
          "height": 283
        },
        "outputId": "3981ef84-d8b9-4d26-dff6-d5a1b7f17fad"
      },
      "execution_count": 41,
      "outputs": [
        {
          "output_type": "stream",
          "name": "stdout",
          "text": [
            "Digito obtido na previsão: [6]\n"
          ]
        },
        {
          "output_type": "display_data",
          "data": {
            "image/png": "[encoded data removed]",
            "text/plain": [
              "<Figure size 432x288 with 1 Axes>"
            ]
          },
          "metadata": {
            "needs_background": "light"
          }
        }
      ]
    }
  ]
}