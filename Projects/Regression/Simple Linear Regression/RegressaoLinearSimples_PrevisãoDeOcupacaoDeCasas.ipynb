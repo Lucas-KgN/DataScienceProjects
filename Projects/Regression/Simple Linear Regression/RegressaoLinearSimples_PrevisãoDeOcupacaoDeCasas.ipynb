{
  "nbformat": 4,
  "nbformat_minor": 0,
  "metadata": {
    "colab": {
      "name": "RegressaoLinearSimples_PrevisãoDeOcupacaoDeCasas.ipynb",
      "provenance": [],
      "collapsed_sections": []
    },
    "kernelspec": {
      "name": "python3",
      "display_name": "Python 3"
    },
    "language_info": {
      "name": "python"
    }
  },
  "cells": [
    {
      "cell_type": "markdown",
      "source": [
        "## **Definição do problema**\n",
        "\n",
        "* Realizar a previsão da taxa média de ocupação de casas em Boston, Estados Unidos. \n",
        "\n",
        "* A base de dados a ser utilizada pode ser encontrada no seguinte link:\n",
        "https://archive.ics.uci.edu/ml/machine-learning-databases/housing/\n",
        "\n",
        "* Segundo o site mencionado, a base de dados é constituída por um total de 14 variáveis, sendo 12 variáveis numéricas e somente 1 variável categórica. Além de possuir 506 linhas de observações de dados. \n",
        "\n",
        "* Por se tratar de um problema de previsão e a base de dados possuir uma variável target o objetivo aqui está em construir um algoritmo de regressão linear simples para realizar a previsão da taxa média de ocupação das casas pelos proprietários em Boston.\n",
        "\n"
      ],
      "metadata": {
        "id": "Y-73g2IBUD3v"
      }
    },
    {
      "cell_type": "code",
      "source": [
        "# Importação das bibliotecas utilizadas\n",
        "import numpy as np\n",
        "import pandas as pd\n",
        "import matplotlib.pyplot as plt\n",
        "import matplotlib as mpl\n",
        "import warnings\n",
        "\n",
        "# Ignorando os avisos de warning\n",
        "warnings.filterwarnings('ignore')\n",
        "%matplotlib inline"
      ],
      "metadata": {
        "id": "7NWziKcBR96_"
      },
      "execution_count": null,
      "outputs": []
    },
    {
      "cell_type": "code",
      "source": [
        "# Carregamento da base de dados utilizando sklearn\n",
        "from sklearn.datasets import load_boston\n",
        "boston = load_boston()"
      ],
      "metadata": {
        "id": "V8fy7mdxR9zX"
      },
      "execution_count": null,
      "outputs": []
    },
    {
      "cell_type": "markdown",
      "source": [
        "## **Análise Exploratória dos dados**\n",
        "\n",
        "\n",
        "\n"
      ],
      "metadata": {
        "id": "ReAdOJk4Ya18"
      }
    },
    {
      "cell_type": "code",
      "source": [
        "# Armazenando a base de dados em um Dataframe\n",
        "dataset = pd.DataFrame(boston.data, columns = boston.feature_names)\n",
        "dataset['target'] = boston.target"
      ],
      "metadata": {
        "id": "_8YLTBPyR99X"
      },
      "execution_count": null,
      "outputs": []
    },
    {
      "cell_type": "code",
      "source": [
        "dataset.head(4)"
      ],
      "metadata": {
        "id": "a-30TdklR9-R",
        "colab": {
          "base_uri": "https://localhost:8080/",
          "height": 175
        },
        "outputId": "8a4e2f14-64d1-4cab-fc5d-3802411f05c5"
      },
      "execution_count": null,
      "outputs": [
        {
          "output_type": "execute_result",
          "data": {
            "text/html": [
              "\n",
              "  <div id=\"df-e4472cfe-8d90-462a-a29e-e90f4e7ae1e8\">\n",
              "    <div class=\"colab-df-container\">\n",
              "      <div>\n",
              "<style scoped>\n",
              "    .dataframe tbody tr th:only-of-type {\n",
              "        vertical-align: middle;\n",
              "    }\n",
              "\n",
              "    .dataframe tbody tr th {\n",
              "        vertical-align: top;\n",
              "    }\n",
              "\n",
              "    .dataframe thead th {\n",
              "        text-align: right;\n",
              "    }\n",
              "</style>\n",
              "<table border=\"1\" class=\"dataframe\">\n",
              "  <thead>\n",
              "    <tr style=\"text-align: right;\">\n",
              "      <th></th>\n",
              "      <th>CRIM</th>\n",
              "      <th>ZN</th>\n",
              "      <th>INDUS</th>\n",
              "      <th>CHAS</th>\n",
              "      <th>NOX</th>\n",
              "      <th>RM</th>\n",
              "      <th>AGE</th>\n",
              "      <th>DIS</th>\n",
              "      <th>RAD</th>\n",
              "      <th>TAX</th>\n",
              "      <th>PTRATIO</th>\n",
              "      <th>B</th>\n",
              "      <th>LSTAT</th>\n",
              "      <th>target</th>\n",
              "    </tr>\n",
              "  </thead>\n",
              "  <tbody>\n",
              "    <tr>\n",
              "      <th>0</th>\n",
              "      <td>0.00632</td>\n",
              "      <td>18.0</td>\n",
              "      <td>2.31</td>\n",
              "      <td>0.0</td>\n",
              "      <td>0.538</td>\n",
              "      <td>6.575</td>\n",
              "      <td>65.2</td>\n",
              "      <td>4.0900</td>\n",
              "      <td>1.0</td>\n",
              "      <td>296.0</td>\n",
              "      <td>15.3</td>\n",
              "      <td>396.90</td>\n",
              "      <td>4.98</td>\n",
              "      <td>24.0</td>\n",
              "    </tr>\n",
              "    <tr>\n",
              "      <th>1</th>\n",
              "      <td>0.02731</td>\n",
              "      <td>0.0</td>\n",
              "      <td>7.07</td>\n",
              "      <td>0.0</td>\n",
              "      <td>0.469</td>\n",
              "      <td>6.421</td>\n",
              "      <td>78.9</td>\n",
              "      <td>4.9671</td>\n",
              "      <td>2.0</td>\n",
              "      <td>242.0</td>\n",
              "      <td>17.8</td>\n",
              "      <td>396.90</td>\n",
              "      <td>9.14</td>\n",
              "      <td>21.6</td>\n",
              "    </tr>\n",
              "    <tr>\n",
              "      <th>2</th>\n",
              "      <td>0.02729</td>\n",
              "      <td>0.0</td>\n",
              "      <td>7.07</td>\n",
              "      <td>0.0</td>\n",
              "      <td>0.469</td>\n",
              "      <td>7.185</td>\n",
              "      <td>61.1</td>\n",
              "      <td>4.9671</td>\n",
              "      <td>2.0</td>\n",
              "      <td>242.0</td>\n",
              "      <td>17.8</td>\n",
              "      <td>392.83</td>\n",
              "      <td>4.03</td>\n",
              "      <td>34.7</td>\n",
              "    </tr>\n",
              "    <tr>\n",
              "      <th>3</th>\n",
              "      <td>0.03237</td>\n",
              "      <td>0.0</td>\n",
              "      <td>2.18</td>\n",
              "      <td>0.0</td>\n",
              "      <td>0.458</td>\n",
              "      <td>6.998</td>\n",
              "      <td>45.8</td>\n",
              "      <td>6.0622</td>\n",
              "      <td>3.0</td>\n",
              "      <td>222.0</td>\n",
              "      <td>18.7</td>\n",
              "      <td>394.63</td>\n",
              "      <td>2.94</td>\n",
              "      <td>33.4</td>\n",
              "    </tr>\n",
              "  </tbody>\n",
              "</table>\n",
              "</div>\n",
              "      <button class=\"colab-df-convert\" onclick=\"convertToInteractive('df-e4472cfe-8d90-462a-a29e-e90f4e7ae1e8')\"\n",
              "              title=\"Convert this dataframe to an interactive table.\"\n",
              "              style=\"display:none;\">\n",
              "        \n",
              "  <svg xmlns=\"http://www.w3.org/2000/svg\" height=\"24px\"viewBox=\"0 0 24 24\"\n",
              "       width=\"24px\">\n",
              "    <path d=\"M0 0h24v24H0V0z\" fill=\"none\"/>\n",
              "    <path d=\"M18.56 5.44l.94 2.06.94-2.06 2.06-.94-2.06-.94-.94-2.06-.94 2.06-2.06.94zm-11 1L8.5 8.5l.94-2.06 2.06-.94-2.06-.94L8.5 2.5l-.94 2.06-2.06.94zm10 10l.94 2.06.94-2.06 2.06-.94-2.06-.94-.94-2.06-.94 2.06-2.06.94z\"/><path d=\"M17.41 7.96l-1.37-1.37c-.4-.4-.92-.59-1.43-.59-.52 0-1.04.2-1.43.59L10.3 9.45l-7.72 7.72c-.78.78-.78 2.05 0 2.83L4 21.41c.39.39.9.59 1.41.59.51 0 1.02-.2 1.41-.59l7.78-7.78 2.81-2.81c.8-.78.8-2.07 0-2.86zM5.41 20L4 18.59l7.72-7.72 1.47 1.35L5.41 20z\"/>\n",
              "  </svg>\n",
              "      </button>\n",
              "      \n",
              "  <style>\n",
              "    .colab-df-container {\n",
              "      display:flex;\n",
              "      flex-wrap:wrap;\n",
              "      gap: 12px;\n",
              "    }\n",
              "\n",
              "    .colab-df-convert {\n",
              "      background-color: #E8F0FE;\n",
              "      border: none;\n",
              "      border-radius: 50%;\n",
              "      cursor: pointer;\n",
              "      display: none;\n",
              "      fill: #1967D2;\n",
              "      height: 32px;\n",
              "      padding: 0 0 0 0;\n",
              "      width: 32px;\n",
              "    }\n",
              "\n",
              "    .colab-df-convert:hover {\n",
              "      background-color: #E2EBFA;\n",
              "      box-shadow: 0px 1px 2px rgba(60, 64, 67, 0.3), 0px 1px 3px 1px rgba(60, 64, 67, 0.15);\n",
              "      fill: #174EA6;\n",
              "    }\n",
              "\n",
              "    [theme=dark] .colab-df-convert {\n",
              "      background-color: #3B4455;\n",
              "      fill: #D2E3FC;\n",
              "    }\n",
              "\n",
              "    [theme=dark] .colab-df-convert:hover {\n",
              "      background-color: #434B5C;\n",
              "      box-shadow: 0px 1px 3px 1px rgba(0, 0, 0, 0.15);\n",
              "      filter: drop-shadow(0px 1px 2px rgba(0, 0, 0, 0.3));\n",
              "      fill: #FFFFFF;\n",
              "    }\n",
              "  </style>\n",
              "\n",
              "      <script>\n",
              "        const buttonEl =\n",
              "          document.querySelector('#df-e4472cfe-8d90-462a-a29e-e90f4e7ae1e8 button.colab-df-convert');\n",
              "        buttonEl.style.display =\n",
              "          google.colab.kernel.accessAllowed ? 'block' : 'none';\n",
              "\n",
              "        async function convertToInteractive(key) {\n",
              "          const element = document.querySelector('#df-e4472cfe-8d90-462a-a29e-e90f4e7ae1e8');\n",
              "          const dataTable =\n",
              "            await google.colab.kernel.invokeFunction('convertToInteractive',\n",
              "                                                     [key], {});\n",
              "          if (!dataTable) return;\n",
              "\n",
              "          const docLinkHtml = 'Like what you see? Visit the ' +\n",
              "            '<a target=\"_blank\" href=https://colab.research.google.com/notebooks/data_table.ipynb>data table notebook</a>'\n",
              "            + ' to learn more about interactive tables.';\n",
              "          element.innerHTML = '';\n",
              "          dataTable['output_type'] = 'display_data';\n",
              "          await google.colab.output.renderOutput(dataTable, element);\n",
              "          const docLink = document.createElement('div');\n",
              "          docLink.innerHTML = docLinkHtml;\n",
              "          element.appendChild(docLink);\n",
              "        }\n",
              "      </script>\n",
              "    </div>\n",
              "  </div>\n",
              "  "
            ],
            "text/plain": [
              "      CRIM    ZN  INDUS  CHAS    NOX  ...    TAX  PTRATIO       B  LSTAT  target\n",
              "0  0.00632  18.0   2.31   0.0  0.538  ...  296.0     15.3  396.90   4.98    24.0\n",
              "1  0.02731   0.0   7.07   0.0  0.469  ...  242.0     17.8  396.90   9.14    21.6\n",
              "2  0.02729   0.0   7.07   0.0  0.469  ...  242.0     17.8  392.83   4.03    34.7\n",
              "3  0.03237   0.0   2.18   0.0  0.458  ...  222.0     18.7  394.63   2.94    33.4\n",
              "\n",
              "[4 rows x 14 columns]"
            ]
          },
          "metadata": {},
          "execution_count": 4
        }
      ]
    },
    {
      "cell_type": "code",
      "source": [
        "# Realizando o cálculo da média da variável target\n",
        "media_esperada_target = dataset['target'].mean()\n",
        "media_esperada_target"
      ],
      "metadata": {
        "id": "uXGlsBRtR9_O",
        "colab": {
          "base_uri": "https://localhost:8080/"
        },
        "outputId": "f56bf066-8957-42e0-d73d-268fb31e3f2b"
      },
      "execution_count": null,
      "outputs": [
        {
          "output_type": "execute_result",
          "data": {
            "text/plain": [
              "22.532806324110698"
            ]
          },
          "metadata": {},
          "execution_count": 5
        }
      ]
    },
    {
      "cell_type": "markdown",
      "source": [
        "Com base no valor médio da variável alvo espera-se que os resultados previstos pelo modelo estejam próximos desse valor.\n",
        "\n",
        "* Valor médio da base de dados: 22.53"
      ],
      "metadata": {
        "id": "U4DRIgvPatIp"
      }
    },
    {
      "cell_type": "markdown",
      "source": [
        "## **Escolha da variável a ser utilizada**\n",
        "\n",
        "* Para aplicar esse método foi escolhida a variável explanatória RM que informa o número médio de quartos nas casas.\n",
        "\n",
        "* Será feita uma análise da relação entre a variável target e a variável escolhida antes de iniciar a construção do modelo."
      ],
      "metadata": {
        "id": "-tlXPlMgeKHm"
      }
    },
    {
      "cell_type": "code",
      "source": [
        "# Cálculo do Desvio Padrão\n",
        "calc_desvio_padrao = np.std(dataset['RM'])\n",
        "print('Desvio Padrão: %0.8f' % calc_desvio_padrao) "
      ],
      "metadata": {
        "id": "ka1KfKQpR-BE",
        "colab": {
          "base_uri": "https://localhost:8080/"
        },
        "outputId": "d9452293-5e0c-4e8d-c523-67afa0c671b2"
      },
      "execution_count": null,
      "outputs": [
        {
          "output_type": "stream",
          "name": "stdout",
          "text": [
            "Desvio Padrão: 0.70192251\n"
          ]
        }
      ]
    },
    {
      "cell_type": "code",
      "source": [
        "# Cálculo da Correlação entre as variáveis RM e Target\n",
        "from scipy.stats import pearsonr\n",
        "correlacao = pearsonr(dataset['RM'], dataset['target'])[0]\n",
        "print('Correlação obtida: %0.8f' % correlacao)"
      ],
      "metadata": {
        "id": "No0Ygr5jR-B_",
        "colab": {
          "base_uri": "https://localhost:8080/"
        },
        "outputId": "4e0d5f69-18d8-4eeb-91ae-8051a61cbd8d"
      },
      "execution_count": null,
      "outputs": [
        {
          "output_type": "stream",
          "name": "stdout",
          "text": [
            "Correlação obtida: 0.69535995\n"
          ]
        }
      ]
    },
    {
      "cell_type": "markdown",
      "source": [
        "Com base no resultado obtido pelo cálculo da correlação pode-se afirmar que existe uma forte correlação positiva entre as variáveis RM e Target, ou seja, conforme o valor da variável RM aumenta, existe probabilidade da variável Target aumentar também.\n",
        "\n",
        "* Valor obtido do cálculo da correlação: 0.69535995"
      ],
      "metadata": {
        "id": "j4FwFWGrhexr"
      }
    },
    {
      "cell_type": "code",
      "source": [
        " # Plotando um gráfico para demonstrar a correlação positiva entre as variáveis\n",
        "\n",
        "X_range = [dataset['RM'].min(), dataset['RM'].max()]\n",
        "y_range = [dataset['target'].min(), dataset['target'].max()] \n",
        "\n",
        "graf = dataset.plot(kind='scatter', x = 'RM', y = 'target', title = 'Correlação entre RM e Target', xlim = X_range, ylim = y_range)"
      ],
      "metadata": {
        "id": "T17z_dIXR-DD",
        "colab": {
          "base_uri": "https://localhost:8080/",
          "height": 295
        },
        "outputId": "10e052a4-92b0-4330-e3bc-897d0cb8c953"
      },
      "execution_count": null,
      "outputs": [
        {
          "output_type": "display_data",
          "data": {
            "image/png": "[encoded data removed]",
            "text/plain": [
              "<Figure size 432x288 with 1 Axes>"
            ]
          },
          "metadata": {
            "needs_background": "light"
          }
        }
      ]
    },
    {
      "cell_type": "markdown",
      "source": [
        "## **Modelo de Regressão Linear Simples utilizando a biblioteca StatsModels**\n",
        "\n",
        "* Esse pacote traz definições estatísticas em python."
      ],
      "metadata": {
        "id": "p5agbBSGneQP"
      }
    },
    {
      "cell_type": "code",
      "source": [
        "# Importação do pacote API do StatsModels\n",
        "\n",
        "import statsmodels.api as sm "
      ],
      "metadata": {
        "id": "0Bct-RqoR-EU"
      },
      "execution_count": null,
      "outputs": []
    },
    {
      "cell_type": "code",
      "source": [
        "# Organizando os dados \n",
        "\n",
        "X = dataset['RM']\n",
        "y = dataset['target']"
      ],
      "metadata": {
        "id": "sRRPlK-vR-FR"
      },
      "execution_count": null,
      "outputs": []
    },
    {
      "cell_type": "code",
      "source": [
        "# Por requisição do pacote utilizado é dado o comando abaixo para atribuir constantes aos valores de X que serão alteradas durante o treinamento.\n",
        "\n",
        "X = sm.add_constant(X)"
      ],
      "metadata": {
        "id": "vi0L2nA6R-GM"
      },
      "execution_count": null,
      "outputs": []
    },
    {
      "cell_type": "code",
      "source": [
        "X.head()"
      ],
      "metadata": {
        "id": "FRccHviBR-Hq",
        "colab": {
          "base_uri": "https://localhost:8080/",
          "height": 206
        },
        "outputId": "d29d837d-49fd-4d36-c9f8-84b00f52869b"
      },
      "execution_count": null,
      "outputs": [
        {
          "output_type": "execute_result",
          "data": {
            "text/html": [
              "\n",
              "  <div id=\"df-5b9d8978-dd84-4347-88ca-eb29fa4d8989\">\n",
              "    <div class=\"colab-df-container\">\n",
              "      <div>\n",
              "<style scoped>\n",
              "    .dataframe tbody tr th:only-of-type {\n",
              "        vertical-align: middle;\n",
              "    }\n",
              "\n",
              "    .dataframe tbody tr th {\n",
              "        vertical-align: top;\n",
              "    }\n",
              "\n",
              "    .dataframe thead th {\n",
              "        text-align: right;\n",
              "    }\n",
              "</style>\n",
              "<table border=\"1\" class=\"dataframe\">\n",
              "  <thead>\n",
              "    <tr style=\"text-align: right;\">\n",
              "      <th></th>\n",
              "      <th>const</th>\n",
              "      <th>RM</th>\n",
              "    </tr>\n",
              "  </thead>\n",
              "  <tbody>\n",
              "    <tr>\n",
              "      <th>0</th>\n",
              "      <td>1.0</td>\n",
              "      <td>6.575</td>\n",
              "    </tr>\n",
              "    <tr>\n",
              "      <th>1</th>\n",
              "      <td>1.0</td>\n",
              "      <td>6.421</td>\n",
              "    </tr>\n",
              "    <tr>\n",
              "      <th>2</th>\n",
              "      <td>1.0</td>\n",
              "      <td>7.185</td>\n",
              "    </tr>\n",
              "    <tr>\n",
              "      <th>3</th>\n",
              "      <td>1.0</td>\n",
              "      <td>6.998</td>\n",
              "    </tr>\n",
              "    <tr>\n",
              "      <th>4</th>\n",
              "      <td>1.0</td>\n",
              "      <td>7.147</td>\n",
              "    </tr>\n",
              "  </tbody>\n",
              "</table>\n",
              "</div>\n",
              "      <button class=\"colab-df-convert\" onclick=\"convertToInteractive('df-5b9d8978-dd84-4347-88ca-eb29fa4d8989')\"\n",
              "              title=\"Convert this dataframe to an interactive table.\"\n",
              "              style=\"display:none;\">\n",
              "        \n",
              "  <svg xmlns=\"http://www.w3.org/2000/svg\" height=\"24px\"viewBox=\"0 0 24 24\"\n",
              "       width=\"24px\">\n",
              "    <path d=\"M0 0h24v24H0V0z\" fill=\"none\"/>\n",
              "    <path d=\"M18.56 5.44l.94 2.06.94-2.06 2.06-.94-2.06-.94-.94-2.06-.94 2.06-2.06.94zm-11 1L8.5 8.5l.94-2.06 2.06-.94-2.06-.94L8.5 2.5l-.94 2.06-2.06.94zm10 10l.94 2.06.94-2.06 2.06-.94-2.06-.94-.94-2.06-.94 2.06-2.06.94z\"/><path d=\"M17.41 7.96l-1.37-1.37c-.4-.4-.92-.59-1.43-.59-.52 0-1.04.2-1.43.59L10.3 9.45l-7.72 7.72c-.78.78-.78 2.05 0 2.83L4 21.41c.39.39.9.59 1.41.59.51 0 1.02-.2 1.41-.59l7.78-7.78 2.81-2.81c.8-.78.8-2.07 0-2.86zM5.41 20L4 18.59l7.72-7.72 1.47 1.35L5.41 20z\"/>\n",
              "  </svg>\n",
              "      </button>\n",
              "      \n",
              "  <style>\n",
              "    .colab-df-container {\n",
              "      display:flex;\n",
              "      flex-wrap:wrap;\n",
              "      gap: 12px;\n",
              "    }\n",
              "\n",
              "    .colab-df-convert {\n",
              "      background-color: #E8F0FE;\n",
              "      border: none;\n",
              "      border-radius: 50%;\n",
              "      cursor: pointer;\n",
              "      display: none;\n",
              "      fill: #1967D2;\n",
              "      height: 32px;\n",
              "      padding: 0 0 0 0;\n",
              "      width: 32px;\n",
              "    }\n",
              "\n",
              "    .colab-df-convert:hover {\n",
              "      background-color: #E2EBFA;\n",
              "      box-shadow: 0px 1px 2px rgba(60, 64, 67, 0.3), 0px 1px 3px 1px rgba(60, 64, 67, 0.15);\n",
              "      fill: #174EA6;\n",
              "    }\n",
              "\n",
              "    [theme=dark] .colab-df-convert {\n",
              "      background-color: #3B4455;\n",
              "      fill: #D2E3FC;\n",
              "    }\n",
              "\n",
              "    [theme=dark] .colab-df-convert:hover {\n",
              "      background-color: #434B5C;\n",
              "      box-shadow: 0px 1px 3px 1px rgba(0, 0, 0, 0.15);\n",
              "      filter: drop-shadow(0px 1px 2px rgba(0, 0, 0, 0.3));\n",
              "      fill: #FFFFFF;\n",
              "    }\n",
              "  </style>\n",
              "\n",
              "      <script>\n",
              "        const buttonEl =\n",
              "          document.querySelector('#df-5b9d8978-dd84-4347-88ca-eb29fa4d8989 button.colab-df-convert');\n",
              "        buttonEl.style.display =\n",
              "          google.colab.kernel.accessAllowed ? 'block' : 'none';\n",
              "\n",
              "        async function convertToInteractive(key) {\n",
              "          const element = document.querySelector('#df-5b9d8978-dd84-4347-88ca-eb29fa4d8989');\n",
              "          const dataTable =\n",
              "            await google.colab.kernel.invokeFunction('convertToInteractive',\n",
              "                                                     [key], {});\n",
              "          if (!dataTable) return;\n",
              "\n",
              "          const docLinkHtml = 'Like what you see? Visit the ' +\n",
              "            '<a target=\"_blank\" href=https://colab.research.google.com/notebooks/data_table.ipynb>data table notebook</a>'\n",
              "            + ' to learn more about interactive tables.';\n",
              "          element.innerHTML = '';\n",
              "          dataTable['output_type'] = 'display_data';\n",
              "          await google.colab.output.renderOutput(dataTable, element);\n",
              "          const docLink = document.createElement('div');\n",
              "          docLink.innerHTML = docLinkHtml;\n",
              "          element.appendChild(docLink);\n",
              "        }\n",
              "      </script>\n",
              "    </div>\n",
              "  </div>\n",
              "  "
            ],
            "text/plain": [
              "   const     RM\n",
              "0    1.0  6.575\n",
              "1    1.0  6.421\n",
              "2    1.0  7.185\n",
              "3    1.0  6.998\n",
              "4    1.0  7.147"
            ]
          },
          "metadata": {},
          "execution_count": 13
        }
      ]
    },
    {
      "cell_type": "code",
      "source": [
        "# Criação do modelo de regressão linear simples \n",
        "\n",
        "modelo = sm.OLS(y, X)"
      ],
      "metadata": {
        "id": "vjCn1TdUR-Ij"
      },
      "execution_count": null,
      "outputs": []
    },
    {
      "cell_type": "code",
      "source": [
        "# Treinando o modelo\n",
        "\n",
        "modelo_v1 = modelo.fit()"
      ],
      "metadata": {
        "id": "_moZ56zHn68s"
      },
      "execution_count": null,
      "outputs": []
    },
    {
      "cell_type": "code",
      "source": [
        "# Exibindo o resultado do treinamento do modelo\n",
        "\n",
        "print(modelo_v1.summary())"
      ],
      "metadata": {
        "colab": {
          "base_uri": "https://localhost:8080/"
        },
        "id": "WQi-7FE7n6_d",
        "outputId": "c675e9a5-6ba9-4f66-ebaa-f8e349f65cce"
      },
      "execution_count": null,
      "outputs": [
        {
          "output_type": "stream",
          "name": "stdout",
          "text": [
            "                            OLS Regression Results                            \n",
            "==============================================================================\n",
            "Dep. Variable:                 target   R-squared:                       0.484\n",
            "Model:                            OLS   Adj. R-squared:                  0.483\n",
            "Method:                 Least Squares   F-statistic:                     471.8\n",
            "Date:                Tue, 01 Feb 2022   Prob (F-statistic):           2.49e-74\n",
            "Time:                        04:57:18   Log-Likelihood:                -1673.1\n",
            "No. Observations:                 506   AIC:                             3350.\n",
            "Df Residuals:                     504   BIC:                             3359.\n",
            "Df Model:                           1                                         \n",
            "Covariance Type:            nonrobust                                         \n",
            "==============================================================================\n",
            "                 coef    std err          t      P>|t|      [0.025      0.975]\n",
            "------------------------------------------------------------------------------\n",
            "const        -34.6706      2.650    -13.084      0.000     -39.877     -29.465\n",
            "RM             9.1021      0.419     21.722      0.000       8.279       9.925\n",
            "==============================================================================\n",
            "Omnibus:                      102.585   Durbin-Watson:                   0.684\n",
            "Prob(Omnibus):                  0.000   Jarque-Bera (JB):              612.449\n",
            "Skew:                           0.726   Prob(JB):                    1.02e-133\n",
            "Kurtosis:                       8.190   Cond. No.                         58.4\n",
            "==============================================================================\n",
            "\n",
            "Warnings:\n",
            "[1] Standard Errors assume that the covariance matrix of the errors is correctly specified.\n"
          ]
        }
      ]
    },
    {
      "cell_type": "markdown",
      "source": [
        "O valor do R-squared determina a precisão do modelo. Esse parâmetro vai de 0 à 1 e quanto maior for significa que o modelo entendeu como trabalhar com os dados. \n",
        "\n",
        "Nesse caso o valor foi de 0.484, o que significa que o modelo não está tão bom."
      ],
      "metadata": {
        "id": "4VMRAtCJpvSn"
      }
    },
    {
      "cell_type": "code",
      "source": [
        "# Valor dos parâmetros da fórmula da regressão linear:\n",
        "# y = a + bx\n",
        "\n",
        "modelo_v1.params"
      ],
      "metadata": {
        "colab": {
          "base_uri": "https://localhost:8080/"
        },
        "id": "OWoKenlEn7CG",
        "outputId": "262f88a7-c693-481b-f137-54e2b8f6ee14"
      },
      "execution_count": null,
      "outputs": [
        {
          "output_type": "execute_result",
          "data": {
            "text/plain": [
              "const   -34.670621\n",
              "RM        9.102109\n",
              "dtype: float64"
            ]
          },
          "metadata": {},
          "execution_count": 23
        }
      ]
    },
    {
      "cell_type": "code",
      "source": [
        "# Gerando os valores previstos pelo modelo utilizando a base de dados de treino\n",
        "\n",
        "valores_previstos = modelo_v1.predict(X)\n",
        "valores_previstos"
      ],
      "metadata": {
        "colab": {
          "base_uri": "https://localhost:8080/"
        },
        "id": "sb6Pgi-1n7EV",
        "outputId": "e4cbaa9a-5c4e-4fc3-f1ef-20834e20367e"
      },
      "execution_count": null,
      "outputs": [
        {
          "output_type": "execute_result",
          "data": {
            "text/plain": [
              "0      25.175746\n",
              "1      23.774021\n",
              "2      30.728032\n",
              "3      29.025938\n",
              "4      30.382152\n",
              "         ...    \n",
              "501    25.339584\n",
              "502    21.034286\n",
              "503    28.825691\n",
              "504    27.169108\n",
              "505    20.215096\n",
              "Length: 506, dtype: float64"
            ]
          },
          "metadata": {},
          "execution_count": 24
        }
      ]
    },
    {
      "cell_type": "code",
      "source": [
        "# Realizando a previsão de um valor novo\n",
        "\n",
        "new_RM = 5\n",
        "Xp = np.array([1, new_RM])\n",
        "print(modelo_v1.predict(Xp))"
      ],
      "metadata": {
        "colab": {
          "base_uri": "https://localhost:8080/"
        },
        "id": "Y54osD8on7Gz",
        "outputId": "1687c4e8-cabc-4205-e450-87943628da7e"
      },
      "execution_count": null,
      "outputs": [
        {
          "output_type": "stream",
          "name": "stdout",
          "text": [
            "[10.83992413]\n"
          ]
        }
      ]
    },
    {
      "cell_type": "markdown",
      "source": [
        "Portanto ao inserir o valor 5 no modelo ele determinou que o valor resultante será de 10.8.\n",
        "\n",
        "Com base no resultado obtido pelo modelo pode-se interpretar que em uma casa com um total de 5 quartos a mediana da taxa de ocupação é de 10.8."
      ],
      "metadata": {
        "id": "u6fc9bkWrx7X"
      }
    },
    {
      "cell_type": "markdown",
      "source": [
        "## **Gerando um gráfico do tipo ScatterPlot com a linha de regressão**\n"
      ],
      "metadata": {
        "id": "0aj7YtwmsnT6"
      }
    },
    {
      "cell_type": "code",
      "source": [
        "# Determinando o range dos valores de X e Y para o gráfico\n",
        "x_range = [dataset['RM'].min(), dataset['RM'].max()]\n",
        "y_range = [dataset['target'].min(), dataset['target'].max()]"
      ],
      "metadata": {
        "id": "dLqjRUzqn7LT"
      },
      "execution_count": null,
      "outputs": []
    },
    {
      "cell_type": "markdown",
      "source": [
        "Criando o gráfico conforme as suas camadas"
      ],
      "metadata": {
        "id": "YDetay13uzcZ"
      }
    },
    {
      "cell_type": "code",
      "source": [
        "# Camada 1, composta pelos dados a serem analisados\n",
        "\n",
        "scatter_plot = dataset.plot(kind = 'scatter', x = 'RM', y = 'target', title = 'Análise das variáveis utilizadas', xlim = x_range, ylim = y_range)\n",
        "\n",
        "# Camada 2, composta pelas médias das variáveis\n",
        "\n",
        "mean_Y = scatter_plot.plot(x_range, [dataset['target'].mean(), dataset['target'].mean()], '--', color = 'black', linewidth = 1)\n",
        "mean_X = scatter_plot.plot([dataset['RM'].mean(), dataset['RM'].mean()], y_range, '--', color = 'black', linewidth = 1)  \n",
        "\n",
        "# Camada 3, composta pela linha de regressão\n",
        "\n",
        "regression_line = scatter_plot.plot(dataset['RM'], valores_previstos, '-', color = 'red', linewidth = 2)"
      ],
      "metadata": {
        "colab": {
          "base_uri": "https://localhost:8080/",
          "height": 295
        },
        "id": "YPhY2iLUn7NY",
        "outputId": "be844dee-addc-4b86-f47f-e6289ea9aae8"
      },
      "execution_count": null,
      "outputs": [
        {
          "output_type": "display_data",
          "data": {
            "image/png": "[encoded data removed]",
            "text/plain": [
              "<Figure size 432x288 with 1 Axes>"
            ]
          },
          "metadata": {
            "needs_background": "light"
          }
        }
      ]
    },
    {
      "cell_type": "markdown",
      "source": [
        "Gerando os resíduos obtidos, ou seja, a diferença entre os valores obtidos e os valores reais para determinar a taxa de erros."
      ],
      "metadata": {
        "id": "4zTmIXr4v8LB"
      }
    },
    {
      "cell_type": "code",
      "source": [
        "# Normalizando o valor dos resíduos\n",
        "from sklearn import preprocessing\n",
        "\n",
        "residuos = dataset['target'] - valores_previstos\n",
        "residuos_normalizados = preprocessing.scale(residuos)"
      ],
      "metadata": {
        "id": "UGcbXXDtn7Pc"
      },
      "execution_count": null,
      "outputs": []
    },
    {
      "cell_type": "code",
      "source": [
        "# Gerando um gráfico com os resíduos\n",
        "\n",
        "residual_scatter_plot = plt.plot(dataset['RM'], residuos_normalizados, 'bp')\n",
        "plt.xlabel('RM')\n",
        "plt.ylabel('Residuos Normalizados')\n",
        "plt.title('Dispersão dos resíduos obtidos')\n",
        "\n",
        "mean_residos = plt.plot([int(x_range[0]), round(x_range[1], 0)], [0,0], '--', color = 'red', linewidth = 3)\n",
        "upper_bound = plt.plot([int(x_range[0]), round(x_range[1], 0)], [3,3], '--', color = 'red', linewidth = 2)\n",
        "lower_bound = plt.plot([int(x_range[0]), round(x_range[1], 0)], [-3,-3], '--', color = 'red', linewidth = 2)\n",
        "\n",
        "plt.grid()"
      ],
      "metadata": {
        "id": "vZFn0ocjn7RB",
        "colab": {
          "base_uri": "https://localhost:8080/",
          "height": 295
        },
        "outputId": "10d81a90-6e5f-42ba-8a34-55810cbae6ad"
      },
      "execution_count": null,
      "outputs": [
        {
          "output_type": "display_data",
          "data": {
            "image/png": "[encoded data removed]",
            "text/plain": [
              "<Figure size 432x288 with 1 Axes>"
            ]
          },
          "metadata": {
            "needs_background": "light"
          }
        }
      ]
    },
    {
      "cell_type": "markdown",
      "source": [
        "Com base no gráfico de dipersão dos resíduos observa-se que o modelo obteve uma taxa relevante de resíduos, ou seja, os valores obtidos não foram muito satisfatórios pois possuem uma alta taxa de diferença se comparados aos valores alvo."
      ],
      "metadata": {
        "id": "Q_12mvMU0ysy"
      }
    },
    {
      "cell_type": "markdown",
      "source": [
        " ## **Modelo de Regressão Linear Simples utilizando a biblioteca Scikit-Learn**\n",
        "\n",
        "* Esse pacote possui um conjunto de modelos de aprendizado de máquina em python."
      ],
      "metadata": {
        "id": "vQVgBSIS1P12"
      }
    },
    {
      "cell_type": "code",
      "source": [
        "# Importanto a biblioteca\n",
        "\n",
        "from sklearn import linear_model"
      ],
      "metadata": {
        "id": "4PRxKwD6n7mS"
      },
      "execution_count": null,
      "outputs": []
    },
    {
      "cell_type": "code",
      "source": [
        "# Criando o modelo\n",
        "\n",
        "modelo_v2 = linear_model.LinearRegression(normalize = False, fit_intercept = True) \n",
        "# Normalize false porque nao quero normalizar os dados e fit intercept true porque eu quero todos os parâmetros utilizados"
      ],
      "metadata": {
        "id": "LwJVmkESn7t5"
      },
      "execution_count": null,
      "outputs": []
    },
    {
      "cell_type": "code",
      "source": [
        "# Definindo os valores de X e Y\n",
        "\n",
        "num_linhas = len(dataset)\n",
        "X = dataset['RM'].values.reshape((num_linhas, 1)) # O valor de X deve ser sempre uma matriz, por isso ocorreu o reshape\n",
        "y = dataset['target'].values # Y pode ser um vetor mesmo"
      ],
      "metadata": {
        "id": "_zS_4nrSn7u-"
      },
      "execution_count": null,
      "outputs": []
    },
    {
      "cell_type": "code",
      "source": [
        "# Treinando o modelo\n",
        "\n",
        "modelo_v2.fit(X,y)"
      ],
      "metadata": {
        "id": "JLhHE4Rnn7wS",
        "colab": {
          "base_uri": "https://localhost:8080/"
        },
        "outputId": "0d81ccb9-cc23-4e3a-d255-246b37a0e8a8"
      },
      "execution_count": null,
      "outputs": [
        {
          "output_type": "execute_result",
          "data": {
            "text/plain": [
              "LinearRegression(normalize=False)"
            ]
          },
          "metadata": {},
          "execution_count": 78
        }
      ]
    },
    {
      "cell_type": "code",
      "source": [
        "# Coeficientes obtidos\n",
        "\n",
        "print(modelo_v2.coef_)\n",
        "print(modelo_v2.intercept_)"
      ],
      "metadata": {
        "id": "S3v4diO1n7xn",
        "colab": {
          "base_uri": "https://localhost:8080/"
        },
        "outputId": "d684f473-a287-4efa-bf34-52d689f51d25"
      },
      "execution_count": null,
      "outputs": [
        {
          "output_type": "stream",
          "name": "stdout",
          "text": [
            "[9.10210898]\n",
            "-34.67062077643857\n"
          ]
        }
      ]
    },
    {
      "cell_type": "code",
      "source": [
        "# Previsões feitas da base de dados utilizada no treino\n",
        "\n",
        "print(modelo_v2.predict(X))"
      ],
      "metadata": {
        "id": "KkBiTB7nn7zI",
        "colab": {
          "base_uri": "https://localhost:8080/"
        },
        "outputId": "2f8ca5a1-4224-406d-fdfb-cff437c6c540"
      },
      "execution_count": null,
      "outputs": [
        {
          "output_type": "stream",
          "name": "stdout",
          "text": [
            "[25.17574577 23.77402099 30.72803225 29.02593787 30.38215211 23.85593997\n",
            " 20.05125842 21.50759586 16.5833549  19.97844155 23.3735282  20.02395209\n",
            " 18.93169901 19.47782555 20.81583557 18.43108302 19.35039603 19.85101202\n",
            " 14.99048582 17.45715736 16.02812625 19.6234593  21.23453259 18.23993873\n",
            " 19.25027283 16.29208741 18.23993873 20.36983223 24.44757706 26.07685456\n",
            " 17.32972783 20.59738496 19.48692766 17.22050253 20.81583557 19.33219181\n",
            " 18.49479778 18.57671676 19.63256141 25.35778795 29.26259271 26.95065703\n",
            " 21.48028953 21.86257811 20.57007863 17.04756245 17.99418179 20.21509638\n",
            " 14.47166561 16.31939374 19.60525508 20.98877564 24.5932108  19.92382889\n",
            " 18.9225969  31.31056723 23.42814085 27.36935404 21.26183891 19.27757916\n",
            " 17.58458688 19.63256141 24.09259481 26.87784015 29.99076143 22.58164472\n",
            " 18.0032839  18.83157581 16.24657686 18.89529058 23.73761256 19.58705086\n",
            " 20.53367019 22.17204981 22.42690886 22.54523628 22.48152152 21.21632837\n",
            " 22.05372239 18.79516738 26.55926634 25.57623857 22.69087002 21.46208531\n",
            " 23.4827535  25.67636177 20.07856475 21.0433883  29.10785685 29.7632087\n",
            " 23.73761256 23.62838725 23.96516528 21.86257811 22.20845825 25.63085122\n",
            " 21.42567687 38.77429659 36.50787146 32.83061943 26.55926634 27.05078022\n",
            " 23.62838725 21.18902204 21.46208531 18.58581887 18.44928724 21.09800095\n",
            " 24.25643277 22.02641607 21.71694436 26.45004103 19.15014963 20.77942714\n",
            " 22.25396879 19.28668126 21.54400429 20.1331774  18.77696316 17.49356579\n",
            " 18.75875894 19.97844155 19.58705086 18.63132942 18.84067792 19.81460358\n",
            " 16.41951693 17.14768565 23.86504208 16.63796755 24.11079902 22.90932064\n",
            " 23.32801765 18.32185771 17.73022063 22.99123962 19.41411079 24.07439059\n",
            " 18.64043153 21.31645157 21.52580007 11.0128642  14.50807405 15.09971113\n",
            "  9.95701956 21.12530728 16.55604857 10.16636806 12.5329164  16.27388319\n",
            " 21.05249041 14.51717616 10.94914944 17.2933194  21.11620517 21.32555368\n",
            " 13.31569777 28.52532188 20.5427723  24.58410869 22.21756036 33.49507338\n",
            " 36.34403349 41.55954194 18.6131252  20.86134612 37.50000134 18.82247371\n",
            " 22.84560588 23.60108092 18.80426949 18.84978003 16.04633047 23.72851045\n",
            " 18.65863574 24.91178461 20.12407529 22.80919744 27.76984683 28.86209991\n",
            " 36.00725546 21.2527368  30.45496898 25.06652047 16.33759795 21.33465578\n",
            " 36.60799466 27.05988233 25.0028057  30.72803225 28.59813875 26.66849165\n",
            " 30.66431749 27.2237203  25.43970694 37.00848745 31.65644737 30.01806775\n",
            " 31.53811995 28.81658937 30.2729268  21.41657477 34.59642857 36.80824105\n",
            " 38.45572278 18.94990323 22.90932064 17.96687546 20.52456809 13.97104962\n",
            " 19.57794875 14.51717616 18.18532608 23.35532398 14.58999303 21.59861695\n",
            " 18.9225969  25.78558708 19.49602977 23.33711976 28.59813875 21.43477898\n",
            " 27.94278691 25.56713646 40.56741206 44.74528008 38.51033543 30.52778586\n",
            " 35.28818885 24.96639727 19.76909304 32.79421099 41.2136618  40.39447199\n",
            " 26.55016423 20.72481448 25.68546388 32.30269711 24.32014753 25.45791115\n",
            " 28.10662487 20.80673346 23.20058813 23.51916194 16.23747476 16.34670006\n",
            " 20.92506088 21.99910974 23.8832463  26.47734736 24.37476018 23.92875684\n",
            " 28.65275141 40.5036973  20.92506088 18.8133716  33.17649957 44.5541358\n",
            " 32.07514438 27.60600887 30.89187022 33.77723876 41.76889045 32.02053173\n",
            " 30.91917654 15.93710516 29.17157162 40.84957744 33.32213331 19.21386439\n",
            " 18.63132942 22.12653927 24.83896774 35.3336994  26.84143172 27.71523418\n",
            " 31.47440519 27.46037513 24.32924964 27.3329456  36.50787146 28.7528746\n",
            " 34.91500238 37.44538868 29.84512768 24.06528848 22.03551818 21.84437389\n",
            " 22.80919744 25.08472469 27.77894894 30.39125422 25.67636177 21.09800095\n",
            " 20.02395209 26.113263   24.93909094 18.03059022 23.08226071 29.41732856\n",
            " 27.86997003 25.31227741 24.44757706 28.88030413 31.19223981 25.54893224\n",
            " 32.86702786 27.66972364 25.72187231 19.68717406 10.59416719 21.05249041\n",
            " 20.15138162 22.3631941  25.1029289  17.25691096 19.15925174 17.95777335\n",
            " 23.41903874 20.97057143 23.81953154 23.36442609 20.31521958 17.28421729\n",
            " 23.71940834 23.86504208 22.78189111 20.69750816 18.74055473 22.9730354\n",
            " 21.2527368  17.26601307 20.22419849 22.81829955 22.76368689 20.27881114\n",
            " 18.74965683 18.98631167 20.47905754 19.80550148 19.65076562 31.23775036\n",
            " 24.85717196 26.27710096 27.89727636 20.06946264 19.01361799 24.63872134\n",
            " 25.72187231 28.48891344 24.40206651 25.21215421 18.88618847 26.56836845\n",
            " 16.87462238 19.35949814 21.87168021 23.53736616 21.09800095 20.96146932\n",
            " 23.56467249 22.22666246 14.13488758 18.14891764 45.24589608 -2.25801069\n",
            " 10.5031461   0.49082622 10.56686086 26.15877354 29.18977584 21.90808865\n",
            " 18.80426949  9.98432589  2.99390619 31.8931022  25.84930184 27.16910764\n",
            " 23.40083452 21.97180341 28.7528746  24.90268251 15.71865454 15.5730208\n",
            "  5.08739125 13.36120832  7.6723902  10.83992413  9.74767105 14.38974663\n",
            " 17.32972783 20.40624067 11.16760005 21.69874014 18.9134948  24.22912644\n",
            " 23.62838725 17.63919954 14.9631795  18.59492098 19.82370569 23.06405649\n",
            " 23.61928514 14.01656016 15.673144   17.05666456  2.99390619 16.37400639\n",
            " 16.45592537 27.69702996 17.73022063 25.92211871  7.45393959 12.25075102\n",
            "  6.46180971 23.89234841 27.05988233 13.60696526 19.55064242 27.44217091\n",
            " 23.6829999  19.99664576 16.73809075 20.87955034 15.9826157  18.99541378\n",
            " 18.45838935 21.78065912 21.69874014 23.40083452 23.10956704 27.52408989\n",
            " 23.81042943 23.91055263 21.83527178 25.66725966 24.13810535 21.32555368\n",
            " 19.35039603 16.54694646 18.28544928 23.63748936 21.93539498 24.35655597\n",
            " 18.6131252  24.11990113 23.04585227 22.22666246 21.62592327 23.73761256\n",
            " 26.75951274 25.90391449 22.64535948 32.62127092 26.56836845 24.72064033\n",
            " 19.7235825  19.35949814 22.68176791 20.67930394 26.32261151 23.36442609\n",
            " 22.82740166 24.61141502 21.84437389 17.74842485 19.50513188 19.96933944\n",
            " 19.26847705 17.32972783 21.46208531 22.02641607 23.91965474 28.86209991\n",
            " 14.72652466 21.41657477 24.34745386 13.60696526 21.62592327 22.02641607\n",
            " 22.14474348 26.76861485 29.59937074 17.77573117 18.76786105 22.78189111\n",
            " 20.97967353 19.07733276 14.97228161 14.60819725 11.68642026 19.78729726\n",
            " 19.78729726 17.27511518 19.26847705 16.93833715 14.38974663 18.06699866\n",
            " 20.11497318 16.01902414 20.18779005 25.33958374 21.03428619 28.82569148\n",
            " 27.16910764 20.21509638]\n"
          ]
        }
      ]
    },
    {
      "cell_type": "code",
      "source": [
        "# Prevendo um novo valor a partir do modelo treinado\n",
        "\n",
        "RM = 5\n",
        "Xp = np.array(RM).reshape(-1, 1)\n",
        "print(modelo_v2.predict(Xp))"
      ],
      "metadata": {
        "id": "3KbiJkOvn70a",
        "colab": {
          "base_uri": "https://localhost:8080/"
        },
        "outputId": "679e542f-be0c-4af3-e3a5-51128c7363e7"
      },
      "execution_count": null,
      "outputs": [
        {
          "output_type": "stream",
          "name": "stdout",
          "text": [
            "[10.83992413]\n"
          ]
        }
      ]
    },
    {
      "cell_type": "markdown",
      "source": [
        "Portanto ao atribuir o valor de 5 para o modelo foi obtido um resultado de 10.83. Ou seja, caso o número de quartos seja 5, o modelo prevê que a mediana da taxa de ocupação da casa é de 10.83."
      ],
      "metadata": {
        "id": "JU68wOQS9kPe"
      }
    },
    {
      "cell_type": "markdown",
      "source": [
        " ## **Comparando os modelos criados**\n",
        "\n",
        "* Ambos os modelos resultaram em valores iguais ao receber o valor de RM = 5.\n",
        "\n",
        "* Agora será feita uma análise dos dois modelos criados com base em sua performance."
      ],
      "metadata": {
        "id": "eY4Imrvy9-pq"
      }
    },
    {
      "cell_type": "code",
      "source": [
        "# Criação de uma massa de dados própria para a regressão\n",
        "from sklearn.datasets import make_regression\n",
        "\n",
        "HX, Hy = make_regression(n_samples = 10000000, n_features = 1, n_targets = 1, random_state = 101)\n",
        "# n_samples significa o número de exemplos, n_features significa o número de features a serem inseridas no modelo, n_targets seria o número de saídas e random_state para os valores serem criados randomicamente"
      ],
      "metadata": {
        "id": "95RqXlmfn71Z"
      },
      "execution_count": null,
      "outputs": []
    },
    {
      "cell_type": "code",
      "source": [
        "# Treinando o modelo linear da biblioteca StatsModels com a massa de dados criada\n",
        "\n",
        "# time serve para exibir o tempo de treinamento do modelo\n",
        "%%time \n",
        "sm_linear_regression = sm.OLS(Hy, sm.add_constant(HX))\n",
        "sm_linear_regression.fit()"
      ],
      "metadata": {
        "id": "YWjlM9Snn727",
        "colab": {
          "base_uri": "https://localhost:8080/"
        },
        "outputId": "4508aa7e-ee24-4750-efcd-8196a6d1e0ae"
      },
      "execution_count": null,
      "outputs": [
        {
          "output_type": "stream",
          "name": "stdout",
          "text": [
            "CPU times: user 1.43 s, sys: 536 ms, total: 1.97 s\n",
            "Wall time: 1.55 s\n"
          ]
        }
      ]
    },
    {
      "cell_type": "code",
      "source": [
        "# Treinando o modelo linear da biblioteca Scikit-Learn com a massa de dados criada\n",
        "\n",
        "%%time\n",
        "sk_linear_regression = linear_model.LinearRegression(normalize = False, fit_intercept = True)\n",
        "sk_linear_regression.fit(HX, Hy)"
      ],
      "metadata": {
        "id": "mhCxxzgAn74t",
        "colab": {
          "base_uri": "https://localhost:8080/"
        },
        "outputId": "f0a71c62-0cc4-439d-ed9a-f219d38361ea"
      },
      "execution_count": null,
      "outputs": [
        {
          "output_type": "stream",
          "name": "stdout",
          "text": [
            "CPU times: user 355 ms, sys: 73.4 ms, total: 428 ms\n",
            "Wall time: 352 ms\n"
          ]
        }
      ]
    },
    {
      "cell_type": "markdown",
      "source": [
        "Observa-se que o modelo criado pela biblioteca Scikit-Learn obteve um tempo menor de treinamento em comparação ao modelo criado pela biblioteca StatsModels. Portanto pode-se afirmar que este modelo performa melhor quando o quesito de comparação é o tempo de processamento.\n",
        "\n",
        "Porém deve-se ter em mente que caso se deseje uma maior interpretação estatística do modelo a biblioteca StatsModels oferece uma saída com muitas informações relevantes. \n",
        "Mas caso seja necessário um menor tempo de processamento então a biblioteca Scikit-Learn é uma melhor opção."
      ],
      "metadata": {
        "id": "YnnMG-bRAffR"
      }
    },
    {
      "cell_type": "markdown",
      "source": [
        " ## **Cost-Function de um modelo de Regressão Linear**\n",
        "\n",
        "* Como o objetivo da regressão linear é determinar uma reta que minimize a soma dos erros ao quadrado obtidos pelo cálculo da diferença entre os valores obtidos do modelo e os valores alvo então deve-se buscar métodos para a minimização da função de custo. \n",
        "\n",
        "* Alguns métodos que cumprem essa função são os seguintes: \n",
        "* Pseudo-inversão\n",
        "* Fatorização\n",
        "* Gradient Descent"
      ],
      "metadata": {
        "id": "fgkV4BCdBHyd"
      }
    },
    {
      "cell_type": "markdown",
      "source": [
        " ## **Minimizando a Cost Function**"
      ],
      "metadata": {
        "id": "L9FwqtHYxjHT"
      }
    },
    {
      "cell_type": "markdown",
      "source": [
        "### Minimizando a Cost Function utilizando Pseudo-Inversão"
      ],
      "metadata": {
        "id": "QQgtaJWdxuUW"
      }
    },
    {
      "cell_type": "code",
      "source": [
        "# Definindo os valores de X e Y\n",
        "\n",
        "num_observ = len(dataset)\n",
        "X = dataset['RM'].values.reshape((num_observ, 1))\n",
        "Xb = np.column_stack((X, np.ones(num_observ)))\n",
        "y = dataset['target'].values"
      ],
      "metadata": {
        "id": "fQor2P_Qn75s"
      },
      "execution_count": null,
      "outputs": []
    },
    {
      "cell_type": "code",
      "source": [
        "# Função para equações normais com base na fórmula da pseudo-inversão\n",
        "\n",
        "def normal_equations(X, y):\n",
        "  return np.linalg.solve(np.dot(X.T, X), np.dot(X.T, y))"
      ],
      "metadata": {
        "id": "Mk6xefO7Au2f"
      },
      "execution_count": null,
      "outputs": []
    },
    {
      "cell_type": "code",
      "source": [
        "# Coeficientes da regressão linear simples\n",
        "\n",
        "print(normal_equations(Xb, y))"
      ],
      "metadata": {
        "id": "L4SrSvR2Au4y",
        "colab": {
          "base_uri": "https://localhost:8080/"
        },
        "outputId": "90f63545-5760-4f02-8464-13a16a8ef04f"
      },
      "execution_count": null,
      "outputs": [
        {
          "output_type": "stream",
          "name": "stdout",
          "text": [
            "[  9.10210898 -34.67062078]\n"
          ]
        }
      ]
    },
    {
      "cell_type": "markdown",
      "source": [
        "### Aplicando o Gradiente Descendente"
      ],
      "metadata": {
        "id": "V4hOUrmW2Lap"
      }
    },
    {
      "cell_type": "code",
      "source": [
        "# Definindo X e Y\n",
        "\n",
        "observations = len(dataset)\n",
        "X = dataset['RM'].values.reshape((observations, 1))\n",
        "X = np.column_stack((X, np.ones(observations)))\n",
        "y = dataset['target'].values"
      ],
      "metadata": {
        "id": "4pAEabugAu7G"
      },
      "execution_count": null,
      "outputs": []
    },
    {
      "cell_type": "code",
      "source": [
        "# Definindo as funções com a matemática do Gradiente Descendente\n",
        "\n",
        "import random\n",
        "\n",
        "# Função com valores randômicos para os coeficientes iniciais, ou seja, para os pesos iniciais\n",
        "def random_w(p):\n",
        "  return np.array([np.random.normal() for j in range(p)])\n",
        "\n",
        "# Cálculo da hipotese, ou seja, do valor aproximado de y previsto pelo cálculo de X com o peso W\n",
        "def hypothesis(X, w):\n",
        "  return np.dot(X, w)\n",
        "\n",
        "# Cálculo da função de perda (erro)\n",
        "def loss(X, w, y):\n",
        "  return hypothesis(X, w) - y\n",
        "\n",
        "def squared_loss(X, w, y):\n",
        "  return loss(X, w, y) ** 2\n",
        "\n",
        "# Cálculo do gradiente \n",
        "def gradient(X, w, y):\n",
        "  gradients = list()\n",
        "  n = float(len(y))\n",
        "  for j in range(len(w)):\n",
        "    gradients.append(np.sum(loss(X, w, y) * X[:, j])/ n) # Cálculo dos gradientes com base na fórmula matemática\n",
        "  return gradients\n",
        "\n",
        "# Atualização do valor dos coeficientes\n",
        "def update(X, w, y, alpha = 0.01):\n",
        "  return [t - alpha*g for t, g in zip(w, gradient(X, w, y))]\n",
        "\n",
        "# Otimizando o modelo\n",
        "def optimize(X, y, alpha = 0.01, eta = 10 ** -12, iterations = 1000):\n",
        "  w = random_w(X.shape[1])\n",
        "  path = list()\n",
        "  for k in range(iterations):\n",
        "    SSL = np.sum(squared_loss(X, w, y))\n",
        "    new_w = update(X, w, y, alpha = alpha)\n",
        "    new_SSL = np.sum(squared_loss(X, new_w, y))\n",
        "    w = new_w\n",
        "    if k >= 5 and (new_SSL - SSL <= eta and new_SSL - SSL >= -eta):\n",
        "      path.append(new_SSL)\n",
        "      return w, path\n",
        "    if k % (iterations / 20) == 0:\n",
        "      path.append(new_SSL)\n",
        "  return w, path"
      ],
      "metadata": {
        "id": "quIYFISKAu9X"
      },
      "execution_count": null,
      "outputs": []
    },
    {
      "cell_type": "code",
      "source": [
        "# Definindo o valor da taxa de aprendizado\n",
        "\n",
        "alpha = 0.048"
      ],
      "metadata": {
        "id": "U2FyWnXPAu_d"
      },
      "execution_count": null,
      "outputs": []
    },
    {
      "cell_type": "code",
      "source": [
        "# Otimizando a Cost Function\n",
        "\n",
        "w, path = optimize(X, y, alpha, eta = 10**-12, iterations = 25000)"
      ],
      "metadata": {
        "id": "CWZPFl9aAvBP"
      },
      "execution_count": null,
      "outputs": []
    },
    {
      "cell_type": "markdown",
      "source": [
        "Imprimindo os resultados"
      ],
      "metadata": {
        "id": "Rr-LWKqqAIUW"
      }
    },
    {
      "cell_type": "code",
      "source": [
        "# Resultados obtidos dos coeficientes\n",
        "\n",
        "print('Valor final dos coeficientes: %s' % w)"
      ],
      "metadata": {
        "id": "Yvnz2rtbAvL-",
        "colab": {
          "base_uri": "https://localhost:8080/"
        },
        "outputId": "9dee167f-905f-4a8f-a00b-d77e87e3dd5c"
      },
      "execution_count": null,
      "outputs": [
        {
          "output_type": "stream",
          "name": "stdout",
          "text": [
            "Valor final dos coeficientes: [9.102103817693239, -34.67058793088799]\n"
          ]
        }
      ]
    },
    {
      "cell_type": "code",
      "source": [
        "# Resultados obtidos do erro quadrado durante o processamento\n",
        "\n",
        "print('Valores obtidos para o erro quadrado:\\n\\n %s' % path)"
      ],
      "metadata": {
        "id": "HP_sq_miAvOA",
        "colab": {
          "base_uri": "https://localhost:8080/"
        },
        "outputId": "35546aa2-d8ae-49db-f152-34450c83d388"
      },
      "execution_count": null,
      "outputs": [
        {
          "output_type": "stream",
          "name": "stdout",
          "text": [
            "Valores obtidos para o erro quadrado:\n",
            "\n",
            " [420976.45147988026, 23889.96350829116, 22493.597706004377, 22163.833395187183, 22085.956594917046, 22067.565289911105, 22063.22201824806, 22062.19631568194, 22061.954086819507, 22061.896882300643, 22061.88337294034, 22061.880182583714, 22061.879429152374, 22061.879251222806, 22061.879209203144, 22061.87919927982, 22061.87919693634, 22061.879196382906, 22061.87919625221, 22061.879196221344, 22061.879196218528]\n"
          ]
        }
      ]
    }
  ]
}