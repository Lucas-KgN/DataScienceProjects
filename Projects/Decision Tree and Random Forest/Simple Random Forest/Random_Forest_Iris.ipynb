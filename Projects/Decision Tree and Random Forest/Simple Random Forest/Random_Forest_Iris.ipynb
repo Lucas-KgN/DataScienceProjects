{
  "nbformat": 4,
  "nbformat_minor": 0,
  "metadata": {
    "colab": {
      "name": "Random_Forest_Iris.ipynb",
      "provenance": []
    },
    "kernelspec": {
      "name": "python3",
      "display_name": "Python 3"
    },
    "language_info": {
      "name": "python"
    }
  },
  "cells": [
    {
      "cell_type": "markdown",
      "source": [
        "## Aplicando o algoritmo Random Forest no dataset Iris\n",
        "\n",
        "* Este projeto consiste em avaliar a eficiência do uso do algoritmo Random Forest na classiicação do dataset Iris.\n",
        "\n",
        "* A base de dados pode ser encontrada na biblioteca Scikit-Learn."
      ],
      "metadata": {
        "id": "8WC_8DkBo7-Y"
      }
    },
    {
      "cell_type": "code",
      "source": [
        "!pip install treeinterpreter"
      ],
      "metadata": {
        "colab": {
          "base_uri": "https://localhost:8080/"
        },
        "id": "UYvLtWrro6sk",
        "outputId": "225ae073-acff-467b-b823-3895824d65b6"
      },
      "execution_count": 3,
      "outputs": [
        {
          "output_type": "stream",
          "name": "stdout",
          "text": [
            "Collecting treeinterpreter\n",
            "  Downloading treeinterpreter-0.2.3-py2.py3-none-any.whl (6.0 kB)\n",
            "Installing collected packages: treeinterpreter\n",
            "Successfully installed treeinterpreter-0.2.3\n"
          ]
        }
      ]
    },
    {
      "cell_type": "code",
      "execution_count": 4,
      "metadata": {
        "id": "f5BNT3GLo5A0"
      },
      "outputs": [],
      "source": [
        "import numpy as np\n",
        "from sklearn.ensemble import RandomForestClassifier\n",
        "from sklearn.datasets import load_iris\n",
        "from treeinterpreter import treeinterpreter as ti"
      ]
    },
    {
      "cell_type": "code",
      "source": [
        "# Carregando o dataset\n",
        "iris = load_iris()"
      ],
      "metadata": {
        "id": "PACVxVReo6vm"
      },
      "execution_count": 5,
      "outputs": []
    },
    {
      "cell_type": "code",
      "source": [
        "# Criando o modelo\n",
        "rf = RandomForestClassifier(max_depth=3) # No maximo 3 niveis para cada arvore de decisao"
      ],
      "metadata": {
        "id": "NovMf7rVo6yH"
      },
      "execution_count": 29,
      "outputs": []
    },
    {
      "cell_type": "code",
      "source": [
        "# Obtém os índices a partir do comprimento da  variável target\n",
        "idx = list(range(len(iris.target)))"
      ],
      "metadata": {
        "id": "06IQSpwRo60v"
      },
      "execution_count": 30,
      "outputs": []
    },
    {
      "cell_type": "code",
      "source": [
        "# Randomizando o indice\n",
        "np.random.shuffle(idx)"
      ],
      "metadata": {
        "id": "umpQN9wuo68m"
      },
      "execution_count": 31,
      "outputs": []
    },
    {
      "cell_type": "code",
      "source": [
        "# Treinando o modelo\n",
        "rf.fit(iris.data[idx][:100], iris.target[idx][:100])"
      ],
      "metadata": {
        "colab": {
          "base_uri": "https://localhost:8080/"
        },
        "id": "jT40Kpr7o69m",
        "outputId": "4f73e2c6-3248-4f70-e2b6-a233a5660ba7"
      },
      "execution_count": 32,
      "outputs": [
        {
          "output_type": "execute_result",
          "data": {
            "text/plain": [
              "RandomForestClassifier(max_depth=3)"
            ]
          },
          "metadata": {},
          "execution_count": 32
        }
      ]
    },
    {
      "cell_type": "code",
      "source": [
        "# Obtendo as instancias e retornando as probabilidades das classes\n",
        "instance = iris.data[idx][100:101]\n",
        "print(rf.predict_proba(instance))"
      ],
      "metadata": {
        "colab": {
          "base_uri": "https://localhost:8080/"
        },
        "id": "KlfzhmtLo6-4",
        "outputId": "ce19585c-4f43-445d-8b08-c49b1cb2066a"
      },
      "execution_count": 33,
      "outputs": [
        {
          "output_type": "stream",
          "name": "stdout",
          "text": [
            "[[0.         0.22627669 0.77372331]]\n"
          ]
        }
      ]
    },
    {
      "cell_type": "code",
      "source": [
        "# Apresentando a relação da previsão com os atributos\n",
        "prediction, bias, contributions = ti.predict(rf, instance)\n",
        "print (\"Previsões:\", prediction)\n",
        "print (\"\\nContribuição dos Atributos:\")\n",
        "for item, feature in zip(contributions[0], iris.feature_names):\n",
        "    print (feature, item)"
      ],
      "metadata": {
        "colab": {
          "base_uri": "https://localhost:8080/"
        },
        "id": "Tr1fE_iro6_6",
        "outputId": "8529520a-feaa-40ad-a431-164a0ed1068b"
      },
      "execution_count": 34,
      "outputs": [
        {
          "output_type": "stream",
          "name": "stdout",
          "text": [
            "Previsões: [[0.         0.22627669 0.77372331]]\n",
            "\n",
            "Contribuição dos Atributos:\n",
            "sepal length (cm) [-0.04206612 -0.01621276  0.05827888]\n",
            "sepal width (cm) [-0.00307624 -0.00425889  0.00733513]\n",
            "petal length (cm) [-0.14644643 -0.28217591  0.42862234]\n",
            "petal width (cm) [-0.11661121  0.21142424 -0.09481303]\n"
          ]
        }
      ]
    },
    {
      "cell_type": "markdown",
      "source": [
        "Portanto, o modelo Random Forest com no máximo 10 Decision trees e cada uma com comprimento máximo de 3 resultou para a instância 100 uma probabilidade maior dela fazer parte da classe 3."
      ],
      "metadata": {
        "id": "7UaaPd6g2ejU"
      }
    }
  ]
}